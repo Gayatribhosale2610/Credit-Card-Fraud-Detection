{
  "nbformat": 4,
  "nbformat_minor": 0,
  "metadata": {
    "colab": {
      "name": "credit_card_fraud_detection.ipynb",
      "provenance": [],
      "authorship_tag": "ABX9TyMJD/fZm5Hc+CENcDUKrLyV",
      "include_colab_link": true
    },
    "kernelspec": {
      "name": "python3",
      "display_name": "Python 3"
    },
    "language_info": {
      "name": "python"
    }
  },
  "cells": [
    {
      "cell_type": "markdown",
      "metadata": {
        "id": "view-in-github",
        "colab_type": "text"
      },
      "source": [
        "<a href=\"https://colab.research.google.com/github/Gayatribhosale2610/Credit-Card-Fraud-Detection/blob/main/credit_card_fraud_detection.ipynb\" target=\"_parent\"><img src=\"https://colab.research.google.com/assets/colab-badge.svg\" alt=\"Open In Colab\"/></a>"
      ]
    },
    {
      "cell_type": "markdown",
      "source": [
        "Importing the Dependencies"
      ],
      "metadata": {
        "id": "zoU2YtU_3Od8"
      }
    },
    {
      "cell_type": "code",
      "source": [
        "import numpy as np\n",
        "import pandas as pd\n",
        "from sklearn.model_selection import train_test_split\n",
        "from sklearn.linear_model import LogisticRegression\n",
        "from sklearn.metrics import accuracy_score"
      ],
      "metadata": {
        "id": "ncQpaXow3TPD"
      },
      "execution_count": null,
      "outputs": []
    },
    {
      "cell_type": "code",
      "source": [
        "# loading the dataset to a Pandas DataFrame\n",
        "creditcard_data = pd.read_csv('/content/creditcard.csv')"
      ],
      "metadata": {
        "id": "BXiUTZPC4ItQ"
      },
      "execution_count": null,
      "outputs": []
    },
    {
      "cell_type": "code",
      "source": [
        "# first 5 rows of the dataset\n",
        "creditcard_data.head()"
      ],
      "metadata": {
        "colab": {
          "base_uri": "https://localhost:8080/",
          "height": 299
        },
        "id": "tqF1_EkY40ev",
        "outputId": "bcf422c5-0813-4c0a-d6c1-1b32cc40c7c0"
      },
      "execution_count": null,
      "outputs": [
        {
          "output_type": "execute_result",
          "data": {
            "text/plain": [
              "   Time        V1        V2        V3        V4        V5        V6        V7  \\\n",
              "0     0 -1.359807 -0.072781  2.536347  1.378155 -0.338321  0.462388  0.239599   \n",
              "1     0  1.191857  0.266151  0.166480  0.448154  0.060018 -0.082361 -0.078803   \n",
              "2     1 -1.358354 -1.340163  1.773209  0.379780 -0.503198  1.800499  0.791461   \n",
              "3     1 -0.966272 -0.185226  1.792993 -0.863291 -0.010309  1.247203  0.237609   \n",
              "4     2 -1.158233  0.877737  1.548718  0.403034 -0.407193  0.095921  0.592941   \n",
              "\n",
              "         V8        V9  ...       V21       V22       V23       V24       V25  \\\n",
              "0  0.098698  0.363787  ... -0.018307  0.277838 -0.110474  0.066928  0.128539   \n",
              "1  0.085102 -0.255425  ... -0.225775 -0.638672  0.101288 -0.339846  0.167170   \n",
              "2  0.247676 -1.514654  ...  0.247998  0.771679  0.909412 -0.689281 -0.327642   \n",
              "3  0.377436 -1.387024  ... -0.108300  0.005274 -0.190321 -1.175575  0.647376   \n",
              "4 -0.270533  0.817739  ... -0.009431  0.798278 -0.137458  0.141267 -0.206010   \n",
              "\n",
              "        V26       V27       V28  Amount  Class  \n",
              "0 -0.189115  0.133558 -0.021053  149.62    0.0  \n",
              "1  0.125895 -0.008983  0.014724    2.69    0.0  \n",
              "2 -0.139097 -0.055353 -0.059752  378.66    0.0  \n",
              "3 -0.221929  0.062723  0.061458  123.50    0.0  \n",
              "4  0.502292  0.219422  0.215153   69.99    0.0  \n",
              "\n",
              "[5 rows x 31 columns]"
            ],
            "text/html": [
              "\n",
              "  <div id=\"df-ed71d281-2002-41ab-af75-a48aa3ea6221\">\n",
              "    <div class=\"colab-df-container\">\n",
              "      <div>\n",
              "<style scoped>\n",
              "    .dataframe tbody tr th:only-of-type {\n",
              "        vertical-align: middle;\n",
              "    }\n",
              "\n",
              "    .dataframe tbody tr th {\n",
              "        vertical-align: top;\n",
              "    }\n",
              "\n",
              "    .dataframe thead th {\n",
              "        text-align: right;\n",
              "    }\n",
              "</style>\n",
              "<table border=\"1\" class=\"dataframe\">\n",
              "  <thead>\n",
              "    <tr style=\"text-align: right;\">\n",
              "      <th></th>\n",
              "      <th>Time</th>\n",
              "      <th>V1</th>\n",
              "      <th>V2</th>\n",
              "      <th>V3</th>\n",
              "      <th>V4</th>\n",
              "      <th>V5</th>\n",
              "      <th>V6</th>\n",
              "      <th>V7</th>\n",
              "      <th>V8</th>\n",
              "      <th>V9</th>\n",
              "      <th>...</th>\n",
              "      <th>V21</th>\n",
              "      <th>V22</th>\n",
              "      <th>V23</th>\n",
              "      <th>V24</th>\n",
              "      <th>V25</th>\n",
              "      <th>V26</th>\n",
              "      <th>V27</th>\n",
              "      <th>V28</th>\n",
              "      <th>Amount</th>\n",
              "      <th>Class</th>\n",
              "    </tr>\n",
              "  </thead>\n",
              "  <tbody>\n",
              "    <tr>\n",
              "      <th>0</th>\n",
              "      <td>0</td>\n",
              "      <td>-1.359807</td>\n",
              "      <td>-0.072781</td>\n",
              "      <td>2.536347</td>\n",
              "      <td>1.378155</td>\n",
              "      <td>-0.338321</td>\n",
              "      <td>0.462388</td>\n",
              "      <td>0.239599</td>\n",
              "      <td>0.098698</td>\n",
              "      <td>0.363787</td>\n",
              "      <td>...</td>\n",
              "      <td>-0.018307</td>\n",
              "      <td>0.277838</td>\n",
              "      <td>-0.110474</td>\n",
              "      <td>0.066928</td>\n",
              "      <td>0.128539</td>\n",
              "      <td>-0.189115</td>\n",
              "      <td>0.133558</td>\n",
              "      <td>-0.021053</td>\n",
              "      <td>149.62</td>\n",
              "      <td>0.0</td>\n",
              "    </tr>\n",
              "    <tr>\n",
              "      <th>1</th>\n",
              "      <td>0</td>\n",
              "      <td>1.191857</td>\n",
              "      <td>0.266151</td>\n",
              "      <td>0.166480</td>\n",
              "      <td>0.448154</td>\n",
              "      <td>0.060018</td>\n",
              "      <td>-0.082361</td>\n",
              "      <td>-0.078803</td>\n",
              "      <td>0.085102</td>\n",
              "      <td>-0.255425</td>\n",
              "      <td>...</td>\n",
              "      <td>-0.225775</td>\n",
              "      <td>-0.638672</td>\n",
              "      <td>0.101288</td>\n",
              "      <td>-0.339846</td>\n",
              "      <td>0.167170</td>\n",
              "      <td>0.125895</td>\n",
              "      <td>-0.008983</td>\n",
              "      <td>0.014724</td>\n",
              "      <td>2.69</td>\n",
              "      <td>0.0</td>\n",
              "    </tr>\n",
              "    <tr>\n",
              "      <th>2</th>\n",
              "      <td>1</td>\n",
              "      <td>-1.358354</td>\n",
              "      <td>-1.340163</td>\n",
              "      <td>1.773209</td>\n",
              "      <td>0.379780</td>\n",
              "      <td>-0.503198</td>\n",
              "      <td>1.800499</td>\n",
              "      <td>0.791461</td>\n",
              "      <td>0.247676</td>\n",
              "      <td>-1.514654</td>\n",
              "      <td>...</td>\n",
              "      <td>0.247998</td>\n",
              "      <td>0.771679</td>\n",
              "      <td>0.909412</td>\n",
              "      <td>-0.689281</td>\n",
              "      <td>-0.327642</td>\n",
              "      <td>-0.139097</td>\n",
              "      <td>-0.055353</td>\n",
              "      <td>-0.059752</td>\n",
              "      <td>378.66</td>\n",
              "      <td>0.0</td>\n",
              "    </tr>\n",
              "    <tr>\n",
              "      <th>3</th>\n",
              "      <td>1</td>\n",
              "      <td>-0.966272</td>\n",
              "      <td>-0.185226</td>\n",
              "      <td>1.792993</td>\n",
              "      <td>-0.863291</td>\n",
              "      <td>-0.010309</td>\n",
              "      <td>1.247203</td>\n",
              "      <td>0.237609</td>\n",
              "      <td>0.377436</td>\n",
              "      <td>-1.387024</td>\n",
              "      <td>...</td>\n",
              "      <td>-0.108300</td>\n",
              "      <td>0.005274</td>\n",
              "      <td>-0.190321</td>\n",
              "      <td>-1.175575</td>\n",
              "      <td>0.647376</td>\n",
              "      <td>-0.221929</td>\n",
              "      <td>0.062723</td>\n",
              "      <td>0.061458</td>\n",
              "      <td>123.50</td>\n",
              "      <td>0.0</td>\n",
              "    </tr>\n",
              "    <tr>\n",
              "      <th>4</th>\n",
              "      <td>2</td>\n",
              "      <td>-1.158233</td>\n",
              "      <td>0.877737</td>\n",
              "      <td>1.548718</td>\n",
              "      <td>0.403034</td>\n",
              "      <td>-0.407193</td>\n",
              "      <td>0.095921</td>\n",
              "      <td>0.592941</td>\n",
              "      <td>-0.270533</td>\n",
              "      <td>0.817739</td>\n",
              "      <td>...</td>\n",
              "      <td>-0.009431</td>\n",
              "      <td>0.798278</td>\n",
              "      <td>-0.137458</td>\n",
              "      <td>0.141267</td>\n",
              "      <td>-0.206010</td>\n",
              "      <td>0.502292</td>\n",
              "      <td>0.219422</td>\n",
              "      <td>0.215153</td>\n",
              "      <td>69.99</td>\n",
              "      <td>0.0</td>\n",
              "    </tr>\n",
              "  </tbody>\n",
              "</table>\n",
              "<p>5 rows × 31 columns</p>\n",
              "</div>\n",
              "      <button class=\"colab-df-convert\" onclick=\"convertToInteractive('df-ed71d281-2002-41ab-af75-a48aa3ea6221')\"\n",
              "              title=\"Convert this dataframe to an interactive table.\"\n",
              "              style=\"display:none;\">\n",
              "        \n",
              "  <svg xmlns=\"http://www.w3.org/2000/svg\" height=\"24px\"viewBox=\"0 0 24 24\"\n",
              "       width=\"24px\">\n",
              "    <path d=\"M0 0h24v24H0V0z\" fill=\"none\"/>\n",
              "    <path d=\"M18.56 5.44l.94 2.06.94-2.06 2.06-.94-2.06-.94-.94-2.06-.94 2.06-2.06.94zm-11 1L8.5 8.5l.94-2.06 2.06-.94-2.06-.94L8.5 2.5l-.94 2.06-2.06.94zm10 10l.94 2.06.94-2.06 2.06-.94-2.06-.94-.94-2.06-.94 2.06-2.06.94z\"/><path d=\"M17.41 7.96l-1.37-1.37c-.4-.4-.92-.59-1.43-.59-.52 0-1.04.2-1.43.59L10.3 9.45l-7.72 7.72c-.78.78-.78 2.05 0 2.83L4 21.41c.39.39.9.59 1.41.59.51 0 1.02-.2 1.41-.59l7.78-7.78 2.81-2.81c.8-.78.8-2.07 0-2.86zM5.41 20L4 18.59l7.72-7.72 1.47 1.35L5.41 20z\"/>\n",
              "  </svg>\n",
              "      </button>\n",
              "      \n",
              "  <style>\n",
              "    .colab-df-container {\n",
              "      display:flex;\n",
              "      flex-wrap:wrap;\n",
              "      gap: 12px;\n",
              "    }\n",
              "\n",
              "    .colab-df-convert {\n",
              "      background-color: #E8F0FE;\n",
              "      border: none;\n",
              "      border-radius: 50%;\n",
              "      cursor: pointer;\n",
              "      display: none;\n",
              "      fill: #1967D2;\n",
              "      height: 32px;\n",
              "      padding: 0 0 0 0;\n",
              "      width: 32px;\n",
              "    }\n",
              "\n",
              "    .colab-df-convert:hover {\n",
              "      background-color: #E2EBFA;\n",
              "      box-shadow: 0px 1px 2px rgba(60, 64, 67, 0.3), 0px 1px 3px 1px rgba(60, 64, 67, 0.15);\n",
              "      fill: #174EA6;\n",
              "    }\n",
              "\n",
              "    [theme=dark] .colab-df-convert {\n",
              "      background-color: #3B4455;\n",
              "      fill: #D2E3FC;\n",
              "    }\n",
              "\n",
              "    [theme=dark] .colab-df-convert:hover {\n",
              "      background-color: #434B5C;\n",
              "      box-shadow: 0px 1px 3px 1px rgba(0, 0, 0, 0.15);\n",
              "      filter: drop-shadow(0px 1px 2px rgba(0, 0, 0, 0.3));\n",
              "      fill: #FFFFFF;\n",
              "    }\n",
              "  </style>\n",
              "\n",
              "      <script>\n",
              "        const buttonEl =\n",
              "          document.querySelector('#df-ed71d281-2002-41ab-af75-a48aa3ea6221 button.colab-df-convert');\n",
              "        buttonEl.style.display =\n",
              "          google.colab.kernel.accessAllowed ? 'block' : 'none';\n",
              "\n",
              "        async function convertToInteractive(key) {\n",
              "          const element = document.querySelector('#df-ed71d281-2002-41ab-af75-a48aa3ea6221');\n",
              "          const dataTable =\n",
              "            await google.colab.kernel.invokeFunction('convertToInteractive',\n",
              "                                                     [key], {});\n",
              "          if (!dataTable) return;\n",
              "\n",
              "          const docLinkHtml = 'Like what you see? Visit the ' +\n",
              "            '<a target=\"_blank\" href=https://colab.research.google.com/notebooks/data_table.ipynb>data table notebook</a>'\n",
              "            + ' to learn more about interactive tables.';\n",
              "          element.innerHTML = '';\n",
              "          dataTable['output_type'] = 'display_data';\n",
              "          await google.colab.output.renderOutput(dataTable, element);\n",
              "          const docLink = document.createElement('div');\n",
              "          docLink.innerHTML = docLinkHtml;\n",
              "          element.appendChild(docLink);\n",
              "        }\n",
              "      </script>\n",
              "    </div>\n",
              "  </div>\n",
              "  "
            ]
          },
          "metadata": {},
          "execution_count": 3
        }
      ]
    },
    {
      "cell_type": "code",
      "source": [
        "creditcard_data.tail()"
      ],
      "metadata": {
        "colab": {
          "base_uri": "https://localhost:8080/",
          "height": 299
        },
        "id": "w0s81FlM49xF",
        "outputId": "42a743c6-d784-43bc-c5cf-f1ae5169e793"
      },
      "execution_count": null,
      "outputs": [
        {
          "output_type": "execute_result",
          "data": {
            "text/plain": [
              "         Time        V1        V2        V3        V4        V5        V6  \\\n",
              "120896  75998  1.501845 -1.193147  0.066789 -1.600847 -1.259865 -0.268558   \n",
              "120897  75999 -0.340455  1.201756  1.314094  0.053134  0.111616 -0.959891   \n",
              "120898  75999 -1.089161  0.115364  1.501978  0.700866  0.493027 -0.220268   \n",
              "120899  76000  0.213729  0.623136 -0.259558 -0.152127  2.262088  3.579712   \n",
              "120900  76001 -0.367988  1.108999  0.787889  1.043825 -0.336914 -0.554318   \n",
              "\n",
              "              V7        V8        V9  ...       V21       V22       V23  \\\n",
              "120896 -1.122205  0.040104 -1.795060  ... -0.226430 -0.409194 -0.074263   \n",
              "120897  0.780107 -0.128473 -0.541652  ... -0.252458 -0.609959 -0.025552   \n",
              "120898  0.744468  0.128396 -0.983044  ...  0.391619  0.776285  0.179390   \n",
              "120899 -0.187220  0.877580 -0.697998  ... -0.193588 -0.663299  0.088675   \n",
              "120900  0.307948  0.402319 -0.651386  ...  0.226379  0.551456  0.058382   \n",
              "\n",
              "             V24       V25       V26       V27       V28  Amount  Class  \n",
              "120896 -0.565449  0.404350 -0.168445  0.010981  0.001626   30.00    0.0  \n",
              "120897  0.360654 -0.127871  0.068601  0.251848  0.100380    3.67    0.0  \n",
              "120898  0.218712 -0.009381 -0.353213  0.082478  0.143270  130.80    0.0  \n",
              "120899  1.005326 -0.676412  0.251661  0.105658  0.088634    1.29    0.0  \n",
              "120900  0.394346       NaN       NaN       NaN       NaN     NaN    NaN  \n",
              "\n",
              "[5 rows x 31 columns]"
            ],
            "text/html": [
              "\n",
              "  <div id=\"df-df3fd18b-8e44-4c3f-8242-dcaf44ddb106\">\n",
              "    <div class=\"colab-df-container\">\n",
              "      <div>\n",
              "<style scoped>\n",
              "    .dataframe tbody tr th:only-of-type {\n",
              "        vertical-align: middle;\n",
              "    }\n",
              "\n",
              "    .dataframe tbody tr th {\n",
              "        vertical-align: top;\n",
              "    }\n",
              "\n",
              "    .dataframe thead th {\n",
              "        text-align: right;\n",
              "    }\n",
              "</style>\n",
              "<table border=\"1\" class=\"dataframe\">\n",
              "  <thead>\n",
              "    <tr style=\"text-align: right;\">\n",
              "      <th></th>\n",
              "      <th>Time</th>\n",
              "      <th>V1</th>\n",
              "      <th>V2</th>\n",
              "      <th>V3</th>\n",
              "      <th>V4</th>\n",
              "      <th>V5</th>\n",
              "      <th>V6</th>\n",
              "      <th>V7</th>\n",
              "      <th>V8</th>\n",
              "      <th>V9</th>\n",
              "      <th>...</th>\n",
              "      <th>V21</th>\n",
              "      <th>V22</th>\n",
              "      <th>V23</th>\n",
              "      <th>V24</th>\n",
              "      <th>V25</th>\n",
              "      <th>V26</th>\n",
              "      <th>V27</th>\n",
              "      <th>V28</th>\n",
              "      <th>Amount</th>\n",
              "      <th>Class</th>\n",
              "    </tr>\n",
              "  </thead>\n",
              "  <tbody>\n",
              "    <tr>\n",
              "      <th>120896</th>\n",
              "      <td>75998</td>\n",
              "      <td>1.501845</td>\n",
              "      <td>-1.193147</td>\n",
              "      <td>0.066789</td>\n",
              "      <td>-1.600847</td>\n",
              "      <td>-1.259865</td>\n",
              "      <td>-0.268558</td>\n",
              "      <td>-1.122205</td>\n",
              "      <td>0.040104</td>\n",
              "      <td>-1.795060</td>\n",
              "      <td>...</td>\n",
              "      <td>-0.226430</td>\n",
              "      <td>-0.409194</td>\n",
              "      <td>-0.074263</td>\n",
              "      <td>-0.565449</td>\n",
              "      <td>0.404350</td>\n",
              "      <td>-0.168445</td>\n",
              "      <td>0.010981</td>\n",
              "      <td>0.001626</td>\n",
              "      <td>30.00</td>\n",
              "      <td>0.0</td>\n",
              "    </tr>\n",
              "    <tr>\n",
              "      <th>120897</th>\n",
              "      <td>75999</td>\n",
              "      <td>-0.340455</td>\n",
              "      <td>1.201756</td>\n",
              "      <td>1.314094</td>\n",
              "      <td>0.053134</td>\n",
              "      <td>0.111616</td>\n",
              "      <td>-0.959891</td>\n",
              "      <td>0.780107</td>\n",
              "      <td>-0.128473</td>\n",
              "      <td>-0.541652</td>\n",
              "      <td>...</td>\n",
              "      <td>-0.252458</td>\n",
              "      <td>-0.609959</td>\n",
              "      <td>-0.025552</td>\n",
              "      <td>0.360654</td>\n",
              "      <td>-0.127871</td>\n",
              "      <td>0.068601</td>\n",
              "      <td>0.251848</td>\n",
              "      <td>0.100380</td>\n",
              "      <td>3.67</td>\n",
              "      <td>0.0</td>\n",
              "    </tr>\n",
              "    <tr>\n",
              "      <th>120898</th>\n",
              "      <td>75999</td>\n",
              "      <td>-1.089161</td>\n",
              "      <td>0.115364</td>\n",
              "      <td>1.501978</td>\n",
              "      <td>0.700866</td>\n",
              "      <td>0.493027</td>\n",
              "      <td>-0.220268</td>\n",
              "      <td>0.744468</td>\n",
              "      <td>0.128396</td>\n",
              "      <td>-0.983044</td>\n",
              "      <td>...</td>\n",
              "      <td>0.391619</td>\n",
              "      <td>0.776285</td>\n",
              "      <td>0.179390</td>\n",
              "      <td>0.218712</td>\n",
              "      <td>-0.009381</td>\n",
              "      <td>-0.353213</td>\n",
              "      <td>0.082478</td>\n",
              "      <td>0.143270</td>\n",
              "      <td>130.80</td>\n",
              "      <td>0.0</td>\n",
              "    </tr>\n",
              "    <tr>\n",
              "      <th>120899</th>\n",
              "      <td>76000</td>\n",
              "      <td>0.213729</td>\n",
              "      <td>0.623136</td>\n",
              "      <td>-0.259558</td>\n",
              "      <td>-0.152127</td>\n",
              "      <td>2.262088</td>\n",
              "      <td>3.579712</td>\n",
              "      <td>-0.187220</td>\n",
              "      <td>0.877580</td>\n",
              "      <td>-0.697998</td>\n",
              "      <td>...</td>\n",
              "      <td>-0.193588</td>\n",
              "      <td>-0.663299</td>\n",
              "      <td>0.088675</td>\n",
              "      <td>1.005326</td>\n",
              "      <td>-0.676412</td>\n",
              "      <td>0.251661</td>\n",
              "      <td>0.105658</td>\n",
              "      <td>0.088634</td>\n",
              "      <td>1.29</td>\n",
              "      <td>0.0</td>\n",
              "    </tr>\n",
              "    <tr>\n",
              "      <th>120900</th>\n",
              "      <td>76001</td>\n",
              "      <td>-0.367988</td>\n",
              "      <td>1.108999</td>\n",
              "      <td>0.787889</td>\n",
              "      <td>1.043825</td>\n",
              "      <td>-0.336914</td>\n",
              "      <td>-0.554318</td>\n",
              "      <td>0.307948</td>\n",
              "      <td>0.402319</td>\n",
              "      <td>-0.651386</td>\n",
              "      <td>...</td>\n",
              "      <td>0.226379</td>\n",
              "      <td>0.551456</td>\n",
              "      <td>0.058382</td>\n",
              "      <td>0.394346</td>\n",
              "      <td>NaN</td>\n",
              "      <td>NaN</td>\n",
              "      <td>NaN</td>\n",
              "      <td>NaN</td>\n",
              "      <td>NaN</td>\n",
              "      <td>NaN</td>\n",
              "    </tr>\n",
              "  </tbody>\n",
              "</table>\n",
              "<p>5 rows × 31 columns</p>\n",
              "</div>\n",
              "      <button class=\"colab-df-convert\" onclick=\"convertToInteractive('df-df3fd18b-8e44-4c3f-8242-dcaf44ddb106')\"\n",
              "              title=\"Convert this dataframe to an interactive table.\"\n",
              "              style=\"display:none;\">\n",
              "        \n",
              "  <svg xmlns=\"http://www.w3.org/2000/svg\" height=\"24px\"viewBox=\"0 0 24 24\"\n",
              "       width=\"24px\">\n",
              "    <path d=\"M0 0h24v24H0V0z\" fill=\"none\"/>\n",
              "    <path d=\"M18.56 5.44l.94 2.06.94-2.06 2.06-.94-2.06-.94-.94-2.06-.94 2.06-2.06.94zm-11 1L8.5 8.5l.94-2.06 2.06-.94-2.06-.94L8.5 2.5l-.94 2.06-2.06.94zm10 10l.94 2.06.94-2.06 2.06-.94-2.06-.94-.94-2.06-.94 2.06-2.06.94z\"/><path d=\"M17.41 7.96l-1.37-1.37c-.4-.4-.92-.59-1.43-.59-.52 0-1.04.2-1.43.59L10.3 9.45l-7.72 7.72c-.78.78-.78 2.05 0 2.83L4 21.41c.39.39.9.59 1.41.59.51 0 1.02-.2 1.41-.59l7.78-7.78 2.81-2.81c.8-.78.8-2.07 0-2.86zM5.41 20L4 18.59l7.72-7.72 1.47 1.35L5.41 20z\"/>\n",
              "  </svg>\n",
              "      </button>\n",
              "      \n",
              "  <style>\n",
              "    .colab-df-container {\n",
              "      display:flex;\n",
              "      flex-wrap:wrap;\n",
              "      gap: 12px;\n",
              "    }\n",
              "\n",
              "    .colab-df-convert {\n",
              "      background-color: #E8F0FE;\n",
              "      border: none;\n",
              "      border-radius: 50%;\n",
              "      cursor: pointer;\n",
              "      display: none;\n",
              "      fill: #1967D2;\n",
              "      height: 32px;\n",
              "      padding: 0 0 0 0;\n",
              "      width: 32px;\n",
              "    }\n",
              "\n",
              "    .colab-df-convert:hover {\n",
              "      background-color: #E2EBFA;\n",
              "      box-shadow: 0px 1px 2px rgba(60, 64, 67, 0.3), 0px 1px 3px 1px rgba(60, 64, 67, 0.15);\n",
              "      fill: #174EA6;\n",
              "    }\n",
              "\n",
              "    [theme=dark] .colab-df-convert {\n",
              "      background-color: #3B4455;\n",
              "      fill: #D2E3FC;\n",
              "    }\n",
              "\n",
              "    [theme=dark] .colab-df-convert:hover {\n",
              "      background-color: #434B5C;\n",
              "      box-shadow: 0px 1px 3px 1px rgba(0, 0, 0, 0.15);\n",
              "      filter: drop-shadow(0px 1px 2px rgba(0, 0, 0, 0.3));\n",
              "      fill: #FFFFFF;\n",
              "    }\n",
              "  </style>\n",
              "\n",
              "      <script>\n",
              "        const buttonEl =\n",
              "          document.querySelector('#df-df3fd18b-8e44-4c3f-8242-dcaf44ddb106 button.colab-df-convert');\n",
              "        buttonEl.style.display =\n",
              "          google.colab.kernel.accessAllowed ? 'block' : 'none';\n",
              "\n",
              "        async function convertToInteractive(key) {\n",
              "          const element = document.querySelector('#df-df3fd18b-8e44-4c3f-8242-dcaf44ddb106');\n",
              "          const dataTable =\n",
              "            await google.colab.kernel.invokeFunction('convertToInteractive',\n",
              "                                                     [key], {});\n",
              "          if (!dataTable) return;\n",
              "\n",
              "          const docLinkHtml = 'Like what you see? Visit the ' +\n",
              "            '<a target=\"_blank\" href=https://colab.research.google.com/notebooks/data_table.ipynb>data table notebook</a>'\n",
              "            + ' to learn more about interactive tables.';\n",
              "          element.innerHTML = '';\n",
              "          dataTable['output_type'] = 'display_data';\n",
              "          await google.colab.output.renderOutput(dataTable, element);\n",
              "          const docLink = document.createElement('div');\n",
              "          docLink.innerHTML = docLinkHtml;\n",
              "          element.appendChild(docLink);\n",
              "        }\n",
              "      </script>\n",
              "    </div>\n",
              "  </div>\n",
              "  "
            ]
          },
          "metadata": {},
          "execution_count": 4
        }
      ]
    },
    {
      "cell_type": "code",
      "source": [
        "creditcard_data.info()"
      ],
      "metadata": {
        "colab": {
          "base_uri": "https://localhost:8080/"
        },
        "id": "ZUExu1SN5zJ4",
        "outputId": "1f5f1d5b-34a9-4070-b231-d666fc611410"
      },
      "execution_count": null,
      "outputs": [
        {
          "output_type": "stream",
          "name": "stdout",
          "text": [
            "<class 'pandas.core.frame.DataFrame'>\n",
            "RangeIndex: 120901 entries, 0 to 120900\n",
            "Data columns (total 31 columns):\n",
            " #   Column  Non-Null Count   Dtype  \n",
            "---  ------  --------------   -----  \n",
            " 0   Time    120901 non-null  int64  \n",
            " 1   V1      120901 non-null  float64\n",
            " 2   V2      120901 non-null  float64\n",
            " 3   V3      120901 non-null  float64\n",
            " 4   V4      120901 non-null  float64\n",
            " 5   V5      120901 non-null  float64\n",
            " 6   V6      120901 non-null  float64\n",
            " 7   V7      120901 non-null  float64\n",
            " 8   V8      120901 non-null  float64\n",
            " 9   V9      120901 non-null  float64\n",
            " 10  V10     120901 non-null  float64\n",
            " 11  V11     120901 non-null  float64\n",
            " 12  V12     120901 non-null  float64\n",
            " 13  V13     120901 non-null  float64\n",
            " 14  V14     120901 non-null  float64\n",
            " 15  V15     120901 non-null  float64\n",
            " 16  V16     120901 non-null  float64\n",
            " 17  V17     120901 non-null  float64\n",
            " 18  V18     120901 non-null  float64\n",
            " 19  V19     120901 non-null  float64\n",
            " 20  V20     120901 non-null  float64\n",
            " 21  V21     120901 non-null  float64\n",
            " 22  V22     120901 non-null  float64\n",
            " 23  V23     120901 non-null  float64\n",
            " 24  V24     120901 non-null  float64\n",
            " 25  V25     120900 non-null  float64\n",
            " 26  V26     120900 non-null  float64\n",
            " 27  V27     120900 non-null  float64\n",
            " 28  V28     120900 non-null  float64\n",
            " 29  Amount  120900 non-null  float64\n",
            " 30  Class   120900 non-null  float64\n",
            "dtypes: float64(30), int64(1)\n",
            "memory usage: 28.6 MB\n"
          ]
        }
      ]
    },
    {
      "cell_type": "code",
      "source": [
        "import matplotlib.pyplot as plt\n",
        "import seaborn as sns"
      ],
      "metadata": {
        "id": "8YMRLlTJiqJP"
      },
      "execution_count": null,
      "outputs": []
    },
    {
      "cell_type": "code",
      "source": [
        "# checking the number of missing values in each column\n",
        "creditcard_data.isnull().sum()"
      ],
      "metadata": {
        "colab": {
          "base_uri": "https://localhost:8080/"
        },
        "id": "QXvI0rD36iCu",
        "outputId": "7fbcc006-3b2d-4b3c-a19c-0d7246e14db0"
      },
      "execution_count": null,
      "outputs": [
        {
          "output_type": "execute_result",
          "data": {
            "text/plain": [
              "Time      0\n",
              "V1        0\n",
              "V2        0\n",
              "V3        0\n",
              "V4        0\n",
              "V5        0\n",
              "V6        0\n",
              "V7        0\n",
              "V8        0\n",
              "V9        0\n",
              "V10       0\n",
              "V11       0\n",
              "V12       0\n",
              "V13       0\n",
              "V14       0\n",
              "V15       0\n",
              "V16       0\n",
              "V17       0\n",
              "V18       0\n",
              "V19       0\n",
              "V20       0\n",
              "V21       0\n",
              "V22       0\n",
              "V23       0\n",
              "V24       0\n",
              "V25       1\n",
              "V26       1\n",
              "V27       1\n",
              "V28       1\n",
              "Amount    1\n",
              "Class     1\n",
              "dtype: int64"
            ]
          },
          "metadata": {},
          "execution_count": 7
        }
      ]
    },
    {
      "cell_type": "markdown",
      "source": [
        "**Handle** the missing values"
      ],
      "metadata": {
        "id": "PE51Nj7sOCgT"
      }
    },
    {
      "cell_type": "code",
      "source": [
        "fig, ax = plt.subplots(figsize = (8,8))\n",
        "sns.distplot(creditcard_data.Class)"
      ],
      "metadata": {
        "id": "Zavv9jYiJDRo",
        "colab": {
          "base_uri": "https://localhost:8080/",
          "height": 572
        },
        "outputId": "7308ff33-1639-4264-f0cf-646beb4bd6ed"
      },
      "execution_count": null,
      "outputs": [
        {
          "output_type": "stream",
          "name": "stderr",
          "text": [
            "/usr/local/lib/python3.7/dist-packages/seaborn/distributions.py:2619: FutureWarning: `distplot` is a deprecated function and will be removed in a future version. Please adapt your code to use either `displot` (a figure-level function with similar flexibility) or `histplot` (an axes-level function for histograms).\n",
            "  warnings.warn(msg, FutureWarning)\n"
          ]
        },
        {
          "output_type": "execute_result",
          "data": {
            "text/plain": [
              "<matplotlib.axes._subplots.AxesSubplot at 0x7f96708e6910>"
            ]
          },
          "metadata": {},
          "execution_count": 8
        },
        {
          "output_type": "display_data",
          "data": {
            "text/plain": [
              "<Figure size 576x576 with 1 Axes>"
            ],
            "image/png": "[encoded data removed]"
          },
          "metadata": {
            "needs_background": "light"
          }
        }
      ]
    },
    {
      "cell_type": "markdown",
      "source": [
        "Replace the missing value with Medan value"
      ],
      "metadata": {
        "id": "Rh_a-gP_r26F"
      }
    },
    {
      "cell_type": "code",
      "source": [
        "creditcard_data['V15'].fillna(creditcard_data['V15'].median(),inplace=True)"
      ],
      "metadata": {
        "id": "dUq3ifrFiAfR"
      },
      "execution_count": null,
      "outputs": []
    },
    {
      "cell_type": "code",
      "source": [
        "creditcard_data.isnull().sum()"
      ],
      "metadata": {
        "colab": {
          "base_uri": "https://localhost:8080/"
        },
        "id": "9Ow8B-eHtYE2",
        "outputId": "c3a9cf37-e6f4-4396-d1ce-acd2f40ae328"
      },
      "execution_count": null,
      "outputs": [
        {
          "output_type": "execute_result",
          "data": {
            "text/plain": [
              "Time      0\n",
              "V1        0\n",
              "V2        0\n",
              "V3        0\n",
              "V4        0\n",
              "V5        0\n",
              "V6        0\n",
              "V7        0\n",
              "V8        0\n",
              "V9        0\n",
              "V10       0\n",
              "V11       0\n",
              "V12       0\n",
              "V13       0\n",
              "V14       0\n",
              "V15       0\n",
              "V16       0\n",
              "V17       0\n",
              "V18       0\n",
              "V19       0\n",
              "V20       0\n",
              "V21       0\n",
              "V22       0\n",
              "V23       0\n",
              "V24       0\n",
              "V25       1\n",
              "V26       1\n",
              "V27       1\n",
              "V28       1\n",
              "Amount    1\n",
              "Class     1\n",
              "dtype: int64"
            ]
          },
          "metadata": {},
          "execution_count": 10
        }
      ]
    },
    {
      "cell_type": "code",
      "source": [
        "creditcard_data['Class'].fillna(creditcard_data['Class'].median(),inplace=True)"
      ],
      "metadata": {
        "id": "pkzfvOgUtezd"
      },
      "execution_count": null,
      "outputs": []
    },
    {
      "cell_type": "code",
      "source": [
        "creditcard_data.isnull().sum()\n"
      ],
      "metadata": {
        "colab": {
          "base_uri": "https://localhost:8080/"
        },
        "id": "ay-m8HMstsSx",
        "outputId": "0f0bc4e7-97eb-4821-8a6f-5613b72de3e5"
      },
      "execution_count": null,
      "outputs": [
        {
          "output_type": "execute_result",
          "data": {
            "text/plain": [
              "Time      0\n",
              "V1        0\n",
              "V2        0\n",
              "V3        0\n",
              "V4        0\n",
              "V5        0\n",
              "V6        0\n",
              "V7        0\n",
              "V8        0\n",
              "V9        0\n",
              "V10       0\n",
              "V11       0\n",
              "V12       0\n",
              "V13       0\n",
              "V14       0\n",
              "V15       0\n",
              "V16       0\n",
              "V17       0\n",
              "V18       0\n",
              "V19       0\n",
              "V20       0\n",
              "V21       0\n",
              "V22       0\n",
              "V23       0\n",
              "V24       0\n",
              "V25       1\n",
              "V26       1\n",
              "V27       1\n",
              "V28       1\n",
              "Amount    1\n",
              "Class     0\n",
              "dtype: int64"
            ]
          },
          "metadata": {},
          "execution_count": 12
        }
      ]
    },
    {
      "cell_type": "code",
      "source": [
        "creditcard_data['Amount'].fillna(creditcard_data['Amount'].median(),inplace=True)"
      ],
      "metadata": {
        "id": "4hXzOourtven"
      },
      "execution_count": null,
      "outputs": []
    },
    {
      "cell_type": "code",
      "source": [
        "creditcard_data.isnull().sum()"
      ],
      "metadata": {
        "colab": {
          "base_uri": "https://localhost:8080/"
        },
        "id": "eybIPyhSt3L-",
        "outputId": "83dff9eb-47df-4141-f883-65a59037712b"
      },
      "execution_count": null,
      "outputs": [
        {
          "output_type": "execute_result",
          "data": {
            "text/plain": [
              "Time      0\n",
              "V1        0\n",
              "V2        0\n",
              "V3        0\n",
              "V4        0\n",
              "V5        0\n",
              "V6        0\n",
              "V7        0\n",
              "V8        0\n",
              "V9        0\n",
              "V10       0\n",
              "V11       0\n",
              "V12       0\n",
              "V13       0\n",
              "V14       0\n",
              "V15       0\n",
              "V16       0\n",
              "V17       0\n",
              "V18       0\n",
              "V19       0\n",
              "V20       0\n",
              "V21       0\n",
              "V22       0\n",
              "V23       0\n",
              "V24       0\n",
              "V25       1\n",
              "V26       1\n",
              "V27       1\n",
              "V28       1\n",
              "Amount    0\n",
              "Class     0\n",
              "dtype: int64"
            ]
          },
          "metadata": {},
          "execution_count": 14
        }
      ]
    },
    {
      "cell_type": "code",
      "source": [
        "creditcard_data['V25'].fillna(creditcard_data['V25'].median(),inplace=True)"
      ],
      "metadata": {
        "id": "kKJQR3idt6H1"
      },
      "execution_count": null,
      "outputs": []
    },
    {
      "cell_type": "code",
      "source": [
        "creditcard_data.isnull().sum()"
      ],
      "metadata": {
        "colab": {
          "base_uri": "https://localhost:8080/"
        },
        "id": "7jHrfPp0uGVT",
        "outputId": "4bee49d1-21f2-48b0-9838-2b9626f645a2"
      },
      "execution_count": null,
      "outputs": [
        {
          "output_type": "execute_result",
          "data": {
            "text/plain": [
              "Time      0\n",
              "V1        0\n",
              "V2        0\n",
              "V3        0\n",
              "V4        0\n",
              "V5        0\n",
              "V6        0\n",
              "V7        0\n",
              "V8        0\n",
              "V9        0\n",
              "V10       0\n",
              "V11       0\n",
              "V12       0\n",
              "V13       0\n",
              "V14       0\n",
              "V15       0\n",
              "V16       0\n",
              "V17       0\n",
              "V18       0\n",
              "V19       0\n",
              "V20       0\n",
              "V21       0\n",
              "V22       0\n",
              "V23       0\n",
              "V24       0\n",
              "V25       0\n",
              "V26       1\n",
              "V27       1\n",
              "V28       1\n",
              "Amount    0\n",
              "Class     0\n",
              "dtype: int64"
            ]
          },
          "metadata": {},
          "execution_count": 16
        }
      ]
    },
    {
      "cell_type": "code",
      "source": [
        "creditcard_data['V26'].fillna(creditcard_data['V26'].median(),inplace=True)"
      ],
      "metadata": {
        "id": "ITztUr7SuNgV"
      },
      "execution_count": null,
      "outputs": []
    },
    {
      "cell_type": "code",
      "source": [
        "creditcard_data['V27'].fillna(creditcard_data['V27'].median(),inplace=True)"
      ],
      "metadata": {
        "id": "yHoViUHGuim0"
      },
      "execution_count": null,
      "outputs": []
    },
    {
      "cell_type": "code",
      "source": [
        "creditcard_data.isnull().sum()"
      ],
      "metadata": {
        "colab": {
          "base_uri": "https://localhost:8080/"
        },
        "id": "490J4MEcusLN",
        "outputId": "6bc3d50b-a85f-464d-8d8d-129ebe55c1ee"
      },
      "execution_count": null,
      "outputs": [
        {
          "output_type": "execute_result",
          "data": {
            "text/plain": [
              "Time      0\n",
              "V1        0\n",
              "V2        0\n",
              "V3        0\n",
              "V4        0\n",
              "V5        0\n",
              "V6        0\n",
              "V7        0\n",
              "V8        0\n",
              "V9        0\n",
              "V10       0\n",
              "V11       0\n",
              "V12       0\n",
              "V13       0\n",
              "V14       0\n",
              "V15       0\n",
              "V16       0\n",
              "V17       0\n",
              "V18       0\n",
              "V19       0\n",
              "V20       0\n",
              "V21       0\n",
              "V22       0\n",
              "V23       0\n",
              "V24       0\n",
              "V25       0\n",
              "V26       0\n",
              "V27       0\n",
              "V28       1\n",
              "Amount    0\n",
              "Class     0\n",
              "dtype: int64"
            ]
          },
          "metadata": {},
          "execution_count": 19
        }
      ]
    },
    {
      "cell_type": "code",
      "source": [
        "creditcard_data['V28'].fillna(creditcard_data['V28'].median(),inplace=True)"
      ],
      "metadata": {
        "id": "flzRJHQAuwgS"
      },
      "execution_count": null,
      "outputs": []
    },
    {
      "cell_type": "code",
      "source": [
        "creditcard_data.isnull().sum()"
      ],
      "metadata": {
        "colab": {
          "base_uri": "https://localhost:8080/"
        },
        "id": "aQLprB6yvEL-",
        "outputId": "1bf6334b-7b7c-4d35-efe4-a59f6ac46611"
      },
      "execution_count": null,
      "outputs": [
        {
          "output_type": "execute_result",
          "data": {
            "text/plain": [
              "Time      0\n",
              "V1        0\n",
              "V2        0\n",
              "V3        0\n",
              "V4        0\n",
              "V5        0\n",
              "V6        0\n",
              "V7        0\n",
              "V8        0\n",
              "V9        0\n",
              "V10       0\n",
              "V11       0\n",
              "V12       0\n",
              "V13       0\n",
              "V14       0\n",
              "V15       0\n",
              "V16       0\n",
              "V17       0\n",
              "V18       0\n",
              "V19       0\n",
              "V20       0\n",
              "V21       0\n",
              "V22       0\n",
              "V23       0\n",
              "V24       0\n",
              "V25       0\n",
              "V26       0\n",
              "V27       0\n",
              "V28       0\n",
              "Amount    0\n",
              "Class     0\n",
              "dtype: int64"
            ]
          },
          "metadata": {},
          "execution_count": 21
        }
      ]
    },
    {
      "cell_type": "code",
      "source": [
        "creditcard_data.tail()"
      ],
      "metadata": {
        "colab": {
          "base_uri": "https://localhost:8080/",
          "height": 299
        },
        "id": "MPmlJb0SvLj3",
        "outputId": "99a75fca-f6ca-4c5c-c025-ca0fd81f7781"
      },
      "execution_count": null,
      "outputs": [
        {
          "output_type": "execute_result",
          "data": {
            "text/plain": [
              "         Time        V1        V2        V3        V4        V5        V6  \\\n",
              "120896  75998  1.501845 -1.193147  0.066789 -1.600847 -1.259865 -0.268558   \n",
              "120897  75999 -0.340455  1.201756  1.314094  0.053134  0.111616 -0.959891   \n",
              "120898  75999 -1.089161  0.115364  1.501978  0.700866  0.493027 -0.220268   \n",
              "120899  76000  0.213729  0.623136 -0.259558 -0.152127  2.262088  3.579712   \n",
              "120900  76001 -0.367988  1.108999  0.787889  1.043825 -0.336914 -0.554318   \n",
              "\n",
              "              V7        V8        V9  ...       V21       V22       V23  \\\n",
              "120896 -1.122205  0.040104 -1.795060  ... -0.226430 -0.409194 -0.074263   \n",
              "120897  0.780107 -0.128473 -0.541652  ... -0.252458 -0.609959 -0.025552   \n",
              "120898  0.744468  0.128396 -0.983044  ...  0.391619  0.776285  0.179390   \n",
              "120899 -0.187220  0.877580 -0.697998  ... -0.193588 -0.663299  0.088675   \n",
              "120900  0.307948  0.402319 -0.651386  ...  0.226379  0.551456  0.058382   \n",
              "\n",
              "             V24       V25       V26       V27       V28  Amount  Class  \n",
              "120896 -0.565449  0.404350 -0.168445  0.010981  0.001626   30.00    0.0  \n",
              "120897  0.360654 -0.127871  0.068601  0.251848  0.100380    3.67    0.0  \n",
              "120898  0.218712 -0.009381 -0.353213  0.082478  0.143270  130.80    0.0  \n",
              "120899  1.005326 -0.676412  0.251661  0.105658  0.088634    1.29    0.0  \n",
              "120900  0.394346  0.167537 -0.063751  0.010901  0.023449   24.99    0.0  \n",
              "\n",
              "[5 rows x 31 columns]"
            ],
            "text/html": [
              "\n",
              "  <div id=\"df-4212cc41-37d3-4630-90b6-235d0163467d\">\n",
              "    <div class=\"colab-df-container\">\n",
              "      <div>\n",
              "<style scoped>\n",
              "    .dataframe tbody tr th:only-of-type {\n",
              "        vertical-align: middle;\n",
              "    }\n",
              "\n",
              "    .dataframe tbody tr th {\n",
              "        vertical-align: top;\n",
              "    }\n",
              "\n",
              "    .dataframe thead th {\n",
              "        text-align: right;\n",
              "    }\n",
              "</style>\n",
              "<table border=\"1\" class=\"dataframe\">\n",
              "  <thead>\n",
              "    <tr style=\"text-align: right;\">\n",
              "      <th></th>\n",
              "      <th>Time</th>\n",
              "      <th>V1</th>\n",
              "      <th>V2</th>\n",
              "      <th>V3</th>\n",
              "      <th>V4</th>\n",
              "      <th>V5</th>\n",
              "      <th>V6</th>\n",
              "      <th>V7</th>\n",
              "      <th>V8</th>\n",
              "      <th>V9</th>\n",
              "      <th>...</th>\n",
              "      <th>V21</th>\n",
              "      <th>V22</th>\n",
              "      <th>V23</th>\n",
              "      <th>V24</th>\n",
              "      <th>V25</th>\n",
              "      <th>V26</th>\n",
              "      <th>V27</th>\n",
              "      <th>V28</th>\n",
              "      <th>Amount</th>\n",
              "      <th>Class</th>\n",
              "    </tr>\n",
              "  </thead>\n",
              "  <tbody>\n",
              "    <tr>\n",
              "      <th>120896</th>\n",
              "      <td>75998</td>\n",
              "      <td>1.501845</td>\n",
              "      <td>-1.193147</td>\n",
              "      <td>0.066789</td>\n",
              "      <td>-1.600847</td>\n",
              "      <td>-1.259865</td>\n",
              "      <td>-0.268558</td>\n",
              "      <td>-1.122205</td>\n",
              "      <td>0.040104</td>\n",
              "      <td>-1.795060</td>\n",
              "      <td>...</td>\n",
              "      <td>-0.226430</td>\n",
              "      <td>-0.409194</td>\n",
              "      <td>-0.074263</td>\n",
              "      <td>-0.565449</td>\n",
              "      <td>0.404350</td>\n",
              "      <td>-0.168445</td>\n",
              "      <td>0.010981</td>\n",
              "      <td>0.001626</td>\n",
              "      <td>30.00</td>\n",
              "      <td>0.0</td>\n",
              "    </tr>\n",
              "    <tr>\n",
              "      <th>120897</th>\n",
              "      <td>75999</td>\n",
              "      <td>-0.340455</td>\n",
              "      <td>1.201756</td>\n",
              "      <td>1.314094</td>\n",
              "      <td>0.053134</td>\n",
              "      <td>0.111616</td>\n",
              "      <td>-0.959891</td>\n",
              "      <td>0.780107</td>\n",
              "      <td>-0.128473</td>\n",
              "      <td>-0.541652</td>\n",
              "      <td>...</td>\n",
              "      <td>-0.252458</td>\n",
              "      <td>-0.609959</td>\n",
              "      <td>-0.025552</td>\n",
              "      <td>0.360654</td>\n",
              "      <td>-0.127871</td>\n",
              "      <td>0.068601</td>\n",
              "      <td>0.251848</td>\n",
              "      <td>0.100380</td>\n",
              "      <td>3.67</td>\n",
              "      <td>0.0</td>\n",
              "    </tr>\n",
              "    <tr>\n",
              "      <th>120898</th>\n",
              "      <td>75999</td>\n",
              "      <td>-1.089161</td>\n",
              "      <td>0.115364</td>\n",
              "      <td>1.501978</td>\n",
              "      <td>0.700866</td>\n",
              "      <td>0.493027</td>\n",
              "      <td>-0.220268</td>\n",
              "      <td>0.744468</td>\n",
              "      <td>0.128396</td>\n",
              "      <td>-0.983044</td>\n",
              "      <td>...</td>\n",
              "      <td>0.391619</td>\n",
              "      <td>0.776285</td>\n",
              "      <td>0.179390</td>\n",
              "      <td>0.218712</td>\n",
              "      <td>-0.009381</td>\n",
              "      <td>-0.353213</td>\n",
              "      <td>0.082478</td>\n",
              "      <td>0.143270</td>\n",
              "      <td>130.80</td>\n",
              "      <td>0.0</td>\n",
              "    </tr>\n",
              "    <tr>\n",
              "      <th>120899</th>\n",
              "      <td>76000</td>\n",
              "      <td>0.213729</td>\n",
              "      <td>0.623136</td>\n",
              "      <td>-0.259558</td>\n",
              "      <td>-0.152127</td>\n",
              "      <td>2.262088</td>\n",
              "      <td>3.579712</td>\n",
              "      <td>-0.187220</td>\n",
              "      <td>0.877580</td>\n",
              "      <td>-0.697998</td>\n",
              "      <td>...</td>\n",
              "      <td>-0.193588</td>\n",
              "      <td>-0.663299</td>\n",
              "      <td>0.088675</td>\n",
              "      <td>1.005326</td>\n",
              "      <td>-0.676412</td>\n",
              "      <td>0.251661</td>\n",
              "      <td>0.105658</td>\n",
              "      <td>0.088634</td>\n",
              "      <td>1.29</td>\n",
              "      <td>0.0</td>\n",
              "    </tr>\n",
              "    <tr>\n",
              "      <th>120900</th>\n",
              "      <td>76001</td>\n",
              "      <td>-0.367988</td>\n",
              "      <td>1.108999</td>\n",
              "      <td>0.787889</td>\n",
              "      <td>1.043825</td>\n",
              "      <td>-0.336914</td>\n",
              "      <td>-0.554318</td>\n",
              "      <td>0.307948</td>\n",
              "      <td>0.402319</td>\n",
              "      <td>-0.651386</td>\n",
              "      <td>...</td>\n",
              "      <td>0.226379</td>\n",
              "      <td>0.551456</td>\n",
              "      <td>0.058382</td>\n",
              "      <td>0.394346</td>\n",
              "      <td>0.167537</td>\n",
              "      <td>-0.063751</td>\n",
              "      <td>0.010901</td>\n",
              "      <td>0.023449</td>\n",
              "      <td>24.99</td>\n",
              "      <td>0.0</td>\n",
              "    </tr>\n",
              "  </tbody>\n",
              "</table>\n",
              "<p>5 rows × 31 columns</p>\n",
              "</div>\n",
              "      <button class=\"colab-df-convert\" onclick=\"convertToInteractive('df-4212cc41-37d3-4630-90b6-235d0163467d')\"\n",
              "              title=\"Convert this dataframe to an interactive table.\"\n",
              "              style=\"display:none;\">\n",
              "        \n",
              "  <svg xmlns=\"http://www.w3.org/2000/svg\" height=\"24px\"viewBox=\"0 0 24 24\"\n",
              "       width=\"24px\">\n",
              "    <path d=\"M0 0h24v24H0V0z\" fill=\"none\"/>\n",
              "    <path d=\"M18.56 5.44l.94 2.06.94-2.06 2.06-.94-2.06-.94-.94-2.06-.94 2.06-2.06.94zm-11 1L8.5 8.5l.94-2.06 2.06-.94-2.06-.94L8.5 2.5l-.94 2.06-2.06.94zm10 10l.94 2.06.94-2.06 2.06-.94-2.06-.94-.94-2.06-.94 2.06-2.06.94z\"/><path d=\"M17.41 7.96l-1.37-1.37c-.4-.4-.92-.59-1.43-.59-.52 0-1.04.2-1.43.59L10.3 9.45l-7.72 7.72c-.78.78-.78 2.05 0 2.83L4 21.41c.39.39.9.59 1.41.59.51 0 1.02-.2 1.41-.59l7.78-7.78 2.81-2.81c.8-.78.8-2.07 0-2.86zM5.41 20L4 18.59l7.72-7.72 1.47 1.35L5.41 20z\"/>\n",
              "  </svg>\n",
              "      </button>\n",
              "      \n",
              "  <style>\n",
              "    .colab-df-container {\n",
              "      display:flex;\n",
              "      flex-wrap:wrap;\n",
              "      gap: 12px;\n",
              "    }\n",
              "\n",
              "    .colab-df-convert {\n",
              "      background-color: #E8F0FE;\n",
              "      border: none;\n",
              "      border-radius: 50%;\n",
              "      cursor: pointer;\n",
              "      display: none;\n",
              "      fill: #1967D2;\n",
              "      height: 32px;\n",
              "      padding: 0 0 0 0;\n",
              "      width: 32px;\n",
              "    }\n",
              "\n",
              "    .colab-df-convert:hover {\n",
              "      background-color: #E2EBFA;\n",
              "      box-shadow: 0px 1px 2px rgba(60, 64, 67, 0.3), 0px 1px 3px 1px rgba(60, 64, 67, 0.15);\n",
              "      fill: #174EA6;\n",
              "    }\n",
              "\n",
              "    [theme=dark] .colab-df-convert {\n",
              "      background-color: #3B4455;\n",
              "      fill: #D2E3FC;\n",
              "    }\n",
              "\n",
              "    [theme=dark] .colab-df-convert:hover {\n",
              "      background-color: #434B5C;\n",
              "      box-shadow: 0px 1px 3px 1px rgba(0, 0, 0, 0.15);\n",
              "      filter: drop-shadow(0px 1px 2px rgba(0, 0, 0, 0.3));\n",
              "      fill: #FFFFFF;\n",
              "    }\n",
              "  </style>\n",
              "\n",
              "      <script>\n",
              "        const buttonEl =\n",
              "          document.querySelector('#df-4212cc41-37d3-4630-90b6-235d0163467d button.colab-df-convert');\n",
              "        buttonEl.style.display =\n",
              "          google.colab.kernel.accessAllowed ? 'block' : 'none';\n",
              "\n",
              "        async function convertToInteractive(key) {\n",
              "          const element = document.querySelector('#df-4212cc41-37d3-4630-90b6-235d0163467d');\n",
              "          const dataTable =\n",
              "            await google.colab.kernel.invokeFunction('convertToInteractive',\n",
              "                                                     [key], {});\n",
              "          if (!dataTable) return;\n",
              "\n",
              "          const docLinkHtml = 'Like what you see? Visit the ' +\n",
              "            '<a target=\"_blank\" href=https://colab.research.google.com/notebooks/data_table.ipynb>data table notebook</a>'\n",
              "            + ' to learn more about interactive tables.';\n",
              "          element.innerHTML = '';\n",
              "          dataTable['output_type'] = 'display_data';\n",
              "          await google.colab.output.renderOutput(dataTable, element);\n",
              "          const docLink = document.createElement('div');\n",
              "          docLink.innerHTML = docLinkHtml;\n",
              "          element.appendChild(docLink);\n",
              "        }\n",
              "      </script>\n",
              "    </div>\n",
              "  </div>\n",
              "  "
            ]
          },
          "metadata": {},
          "execution_count": 22
        }
      ]
    },
    {
      "cell_type": "code",
      "source": [
        "creditcard_data[\"Class\"].value_counts()"
      ],
      "metadata": {
        "colab": {
          "base_uri": "https://localhost:8080/"
        },
        "id": "Njegm-Covwe4",
        "outputId": "be267aab-ce36-4d43-e9dc-889db9ab176a"
      },
      "execution_count": null,
      "outputs": [
        {
          "output_type": "execute_result",
          "data": {
            "text/plain": [
              "0.0    120652\n",
              "1.0       249\n",
              "Name: Class, dtype: int64"
            ]
          },
          "metadata": {},
          "execution_count": 23
        }
      ]
    },
    {
      "cell_type": "markdown",
      "source": [
        "This dataset is highly imbalanced\n",
        "\n",
        "0 --> Normal Transaction\n",
        "\n",
        "1 --> Fruadulent Transation\n"
      ],
      "metadata": {
        "id": "YbxJjDP1w4yw"
      }
    },
    {
      "cell_type": "code",
      "source": [
        "# Separating the datafor analysis\n",
        "legit = creditcard_data[creditcard_data.Class == 0]\n",
        "fraud = creditcard_data[creditcard_data.Class == 1]"
      ],
      "metadata": {
        "id": "p2nzG0IOwmkx"
      },
      "execution_count": null,
      "outputs": []
    },
    {
      "cell_type": "code",
      "source": [
        "print(legit.shape)\n",
        "print(fraud.shape)"
      ],
      "metadata": {
        "colab": {
          "base_uri": "https://localhost:8080/"
        },
        "id": "WQhoFs66ygkl",
        "outputId": "7705106b-9810-46c9-f623-b355e81ffa64"
      },
      "execution_count": null,
      "outputs": [
        {
          "output_type": "stream",
          "name": "stdout",
          "text": [
            "(120652, 31)\n",
            "(249, 31)\n"
          ]
        }
      ]
    },
    {
      "cell_type": "code",
      "source": [
        "#statistical measures of the data\n",
        "legit.Amount.describe()"
      ],
      "metadata": {
        "colab": {
          "base_uri": "https://localhost:8080/"
        },
        "id": "o14_NBp6ylSY",
        "outputId": "b7d3e2c4-811e-43cd-b69a-7316c217bbe0"
      },
      "execution_count": null,
      "outputs": [
        {
          "output_type": "execute_result",
          "data": {
            "text/plain": [
              "count    120652.000000\n",
              "mean         94.185102\n",
              "std         255.769156\n",
              "min           0.000000\n",
              "25%           6.887500\n",
              "50%          24.990000\n",
              "75%          84.812500\n",
              "max       19656.530000\n",
              "Name: Amount, dtype: float64"
            ]
          },
          "metadata": {},
          "execution_count": 27
        }
      ]
    },
    {
      "cell_type": "code",
      "source": [
        "fraud.Amount.describe()"
      ],
      "metadata": {
        "colab": {
          "base_uri": "https://localhost:8080/"
        },
        "id": "DBYXd1Gsy0Vc",
        "outputId": "38418cdc-25cf-4f3d-8815-4e0d1922573a"
      },
      "execution_count": null,
      "outputs": [
        {
          "output_type": "execute_result",
          "data": {
            "text/plain": [
              "count     249.000000\n",
              "mean      119.180482\n",
              "std       251.160611\n",
              "min         0.000000\n",
              "25%         1.000000\n",
              "50%        11.390000\n",
              "75%        99.990000\n",
              "max      1809.680000\n",
              "Name: Amount, dtype: float64"
            ]
          },
          "metadata": {},
          "execution_count": 28
        }
      ]
    },
    {
      "cell_type": "code",
      "source": [
        "#compare the values for both transactions\n",
        "creditcard_data.groupby('Class').mean()"
      ],
      "metadata": {
        "colab": {
          "base_uri": "https://localhost:8080/",
          "height": 236
        },
        "id": "fYBUYHvlzO78",
        "outputId": "405f9617-15e3-475f-fe95-4c3618cf75c4"
      },
      "execution_count": null,
      "outputs": [
        {
          "output_type": "execute_result",
          "data": {
            "text/plain": [
              "               Time        V1        V2        V3        V4        V5  \\\n",
              "Class                                                                   \n",
              "0.0    47510.506026 -0.242843 -0.016455  0.695110  0.143974 -0.275557   \n",
              "1.0    40280.433735 -5.846600  4.076891 -7.453278  4.641314 -4.167167   \n",
              "\n",
              "             V6        V7        V8        V9  ...       V20       V21  \\\n",
              "Class                                          ...                       \n",
              "0.0    0.091370 -0.101947  0.057799 -0.073725  ...  0.042747 -0.038020   \n",
              "1.0   -1.511639 -6.201243  1.559279 -2.696182  ...  0.259111  1.324185   \n",
              "\n",
              "            V22       V23       V24       V25       V26       V27       V28  \\\n",
              "Class                                                                         \n",
              "0.0   -0.113379 -0.035056  0.011754  0.130599  0.027543 -0.000211  0.001647   \n",
              "1.0   -0.314840 -0.103567 -0.108411  0.199329  0.074713  0.522683  0.076517   \n",
              "\n",
              "           Amount  \n",
              "Class              \n",
              "0.0     94.185102  \n",
              "1.0    119.180482  \n",
              "\n",
              "[2 rows x 30 columns]"
            ],
            "text/html": [
              "\n",
              "  <div id=\"df-71492e5b-a62e-4c82-922f-99e8ad594b76\">\n",
              "    <div class=\"colab-df-container\">\n",
              "      <div>\n",
              "<style scoped>\n",
              "    .dataframe tbody tr th:only-of-type {\n",
              "        vertical-align: middle;\n",
              "    }\n",
              "\n",
              "    .dataframe tbody tr th {\n",
              "        vertical-align: top;\n",
              "    }\n",
              "\n",
              "    .dataframe thead th {\n",
              "        text-align: right;\n",
              "    }\n",
              "</style>\n",
              "<table border=\"1\" class=\"dataframe\">\n",
              "  <thead>\n",
              "    <tr style=\"text-align: right;\">\n",
              "      <th></th>\n",
              "      <th>Time</th>\n",
              "      <th>V1</th>\n",
              "      <th>V2</th>\n",
              "      <th>V3</th>\n",
              "      <th>V4</th>\n",
              "      <th>V5</th>\n",
              "      <th>V6</th>\n",
              "      <th>V7</th>\n",
              "      <th>V8</th>\n",
              "      <th>V9</th>\n",
              "      <th>...</th>\n",
              "      <th>V20</th>\n",
              "      <th>V21</th>\n",
              "      <th>V22</th>\n",
              "      <th>V23</th>\n",
              "      <th>V24</th>\n",
              "      <th>V25</th>\n",
              "      <th>V26</th>\n",
              "      <th>V27</th>\n",
              "      <th>V28</th>\n",
              "      <th>Amount</th>\n",
              "    </tr>\n",
              "    <tr>\n",
              "      <th>Class</th>\n",
              "      <th></th>\n",
              "      <th></th>\n",
              "      <th></th>\n",
              "      <th></th>\n",
              "      <th></th>\n",
              "      <th></th>\n",
              "      <th></th>\n",
              "      <th></th>\n",
              "      <th></th>\n",
              "      <th></th>\n",
              "      <th></th>\n",
              "      <th></th>\n",
              "      <th></th>\n",
              "      <th></th>\n",
              "      <th></th>\n",
              "      <th></th>\n",
              "      <th></th>\n",
              "      <th></th>\n",
              "      <th></th>\n",
              "      <th></th>\n",
              "      <th></th>\n",
              "    </tr>\n",
              "  </thead>\n",
              "  <tbody>\n",
              "    <tr>\n",
              "      <th>0.0</th>\n",
              "      <td>47510.506026</td>\n",
              "      <td>-0.242843</td>\n",
              "      <td>-0.016455</td>\n",
              "      <td>0.695110</td>\n",
              "      <td>0.143974</td>\n",
              "      <td>-0.275557</td>\n",
              "      <td>0.091370</td>\n",
              "      <td>-0.101947</td>\n",
              "      <td>0.057799</td>\n",
              "      <td>-0.073725</td>\n",
              "      <td>...</td>\n",
              "      <td>0.042747</td>\n",
              "      <td>-0.038020</td>\n",
              "      <td>-0.113379</td>\n",
              "      <td>-0.035056</td>\n",
              "      <td>0.011754</td>\n",
              "      <td>0.130599</td>\n",
              "      <td>0.027543</td>\n",
              "      <td>-0.000211</td>\n",
              "      <td>0.001647</td>\n",
              "      <td>94.185102</td>\n",
              "    </tr>\n",
              "    <tr>\n",
              "      <th>1.0</th>\n",
              "      <td>40280.433735</td>\n",
              "      <td>-5.846600</td>\n",
              "      <td>4.076891</td>\n",
              "      <td>-7.453278</td>\n",
              "      <td>4.641314</td>\n",
              "      <td>-4.167167</td>\n",
              "      <td>-1.511639</td>\n",
              "      <td>-6.201243</td>\n",
              "      <td>1.559279</td>\n",
              "      <td>-2.696182</td>\n",
              "      <td>...</td>\n",
              "      <td>0.259111</td>\n",
              "      <td>1.324185</td>\n",
              "      <td>-0.314840</td>\n",
              "      <td>-0.103567</td>\n",
              "      <td>-0.108411</td>\n",
              "      <td>0.199329</td>\n",
              "      <td>0.074713</td>\n",
              "      <td>0.522683</td>\n",
              "      <td>0.076517</td>\n",
              "      <td>119.180482</td>\n",
              "    </tr>\n",
              "  </tbody>\n",
              "</table>\n",
              "<p>2 rows × 30 columns</p>\n",
              "</div>\n",
              "      <button class=\"colab-df-convert\" onclick=\"convertToInteractive('df-71492e5b-a62e-4c82-922f-99e8ad594b76')\"\n",
              "              title=\"Convert this dataframe to an interactive table.\"\n",
              "              style=\"display:none;\">\n",
              "        \n",
              "  <svg xmlns=\"http://www.w3.org/2000/svg\" height=\"24px\"viewBox=\"0 0 24 24\"\n",
              "       width=\"24px\">\n",
              "    <path d=\"M0 0h24v24H0V0z\" fill=\"none\"/>\n",
              "    <path d=\"M18.56 5.44l.94 2.06.94-2.06 2.06-.94-2.06-.94-.94-2.06-.94 2.06-2.06.94zm-11 1L8.5 8.5l.94-2.06 2.06-.94-2.06-.94L8.5 2.5l-.94 2.06-2.06.94zm10 10l.94 2.06.94-2.06 2.06-.94-2.06-.94-.94-2.06-.94 2.06-2.06.94z\"/><path d=\"M17.41 7.96l-1.37-1.37c-.4-.4-.92-.59-1.43-.59-.52 0-1.04.2-1.43.59L10.3 9.45l-7.72 7.72c-.78.78-.78 2.05 0 2.83L4 21.41c.39.39.9.59 1.41.59.51 0 1.02-.2 1.41-.59l7.78-7.78 2.81-2.81c.8-.78.8-2.07 0-2.86zM5.41 20L4 18.59l7.72-7.72 1.47 1.35L5.41 20z\"/>\n",
              "  </svg>\n",
              "      </button>\n",
              "      \n",
              "  <style>\n",
              "    .colab-df-container {\n",
              "      display:flex;\n",
              "      flex-wrap:wrap;\n",
              "      gap: 12px;\n",
              "    }\n",
              "\n",
              "    .colab-df-convert {\n",
              "      background-color: #E8F0FE;\n",
              "      border: none;\n",
              "      border-radius: 50%;\n",
              "      cursor: pointer;\n",
              "      display: none;\n",
              "      fill: #1967D2;\n",
              "      height: 32px;\n",
              "      padding: 0 0 0 0;\n",
              "      width: 32px;\n",
              "    }\n",
              "\n",
              "    .colab-df-convert:hover {\n",
              "      background-color: #E2EBFA;\n",
              "      box-shadow: 0px 1px 2px rgba(60, 64, 67, 0.3), 0px 1px 3px 1px rgba(60, 64, 67, 0.15);\n",
              "      fill: #174EA6;\n",
              "    }\n",
              "\n",
              "    [theme=dark] .colab-df-convert {\n",
              "      background-color: #3B4455;\n",
              "      fill: #D2E3FC;\n",
              "    }\n",
              "\n",
              "    [theme=dark] .colab-df-convert:hover {\n",
              "      background-color: #434B5C;\n",
              "      box-shadow: 0px 1px 3px 1px rgba(0, 0, 0, 0.15);\n",
              "      filter: drop-shadow(0px 1px 2px rgba(0, 0, 0, 0.3));\n",
              "      fill: #FFFFFF;\n",
              "    }\n",
              "  </style>\n",
              "\n",
              "      <script>\n",
              "        const buttonEl =\n",
              "          document.querySelector('#df-71492e5b-a62e-4c82-922f-99e8ad594b76 button.colab-df-convert');\n",
              "        buttonEl.style.display =\n",
              "          google.colab.kernel.accessAllowed ? 'block' : 'none';\n",
              "\n",
              "        async function convertToInteractive(key) {\n",
              "          const element = document.querySelector('#df-71492e5b-a62e-4c82-922f-99e8ad594b76');\n",
              "          const dataTable =\n",
              "            await google.colab.kernel.invokeFunction('convertToInteractive',\n",
              "                                                     [key], {});\n",
              "          if (!dataTable) return;\n",
              "\n",
              "          const docLinkHtml = 'Like what you see? Visit the ' +\n",
              "            '<a target=\"_blank\" href=https://colab.research.google.com/notebooks/data_table.ipynb>data table notebook</a>'\n",
              "            + ' to learn more about interactive tables.';\n",
              "          element.innerHTML = '';\n",
              "          dataTable['output_type'] = 'display_data';\n",
              "          await google.colab.output.renderOutput(dataTable, element);\n",
              "          const docLink = document.createElement('div');\n",
              "          docLink.innerHTML = docLinkHtml;\n",
              "          element.appendChild(docLink);\n",
              "        }\n",
              "      </script>\n",
              "    </div>\n",
              "  </div>\n",
              "  "
            ]
          },
          "metadata": {},
          "execution_count": 29
        }
      ]
    },
    {
      "cell_type": "markdown",
      "source": [
        "Under- Sampling\n"
      ],
      "metadata": {
        "id": "MajD8CKDz9x1"
      }
    },
    {
      "cell_type": "markdown",
      "source": [
        "Build a sample dataset containing similar distribution of normal transations and fraudulent transactions."
      ],
      "metadata": {
        "id": "4BAQEjEUz9tI"
      }
    },
    {
      "cell_type": "markdown",
      "source": [
        "Number of Number of Fraudulent \n",
        "tansactions --> 249"
      ],
      "metadata": {
        "id": "DQvhBvfV0QbU"
      }
    },
    {
      "cell_type": "code",
      "source": [
        "legit_sample = legit.sample(n=249)"
      ],
      "metadata": {
        "id": "KDrcaOT0zkXl"
      },
      "execution_count": null,
      "outputs": []
    },
    {
      "cell_type": "markdown",
      "source": [
        "Concatenating two datasets"
      ],
      "metadata": {
        "id": "k3bkQ4800xAl"
      }
    },
    {
      "cell_type": "markdown",
      "source": [
        ""
      ],
      "metadata": {
        "id": "7tS1Xx2y1Muh"
      }
    },
    {
      "cell_type": "code",
      "source": [
        "new_dataset = pd.concat([legit_sample, fraud], axis = 0)"
      ],
      "metadata": {
        "id": "EwLoevCl0t6F"
      },
      "execution_count": null,
      "outputs": []
    },
    {
      "cell_type": "code",
      "source": [
        "new_dataset.head()"
      ],
      "metadata": {
        "colab": {
          "base_uri": "https://localhost:8080/",
          "height": 299
        },
        "id": "jqlwloFs1XsM",
        "outputId": "15e548c8-77ea-46ee-e1f8-9f00295cbd80"
      },
      "execution_count": null,
      "outputs": [
        {
          "output_type": "execute_result",
          "data": {
            "text/plain": [
              "        Time        V1        V2        V3        V4        V5        V6  \\\n",
              "70478  53883  0.928996 -0.849538  1.638696  1.072137 -1.549529  0.664209   \n",
              "42663  41191  1.145527  1.179354 -1.516553  1.533669  0.948752 -1.161533   \n",
              "85291  60704 -0.155929  0.462142  0.318890 -0.814027  2.793674  3.611280   \n",
              "17819  28941  1.180119  0.194139  0.141373  0.948226 -0.120339 -0.456425   \n",
              "21107  31471 -1.037324  0.963357  0.803547  0.720861  0.736920 -0.084635   \n",
              "\n",
              "             V7        V8        V9  ...       V21       V22       V23  \\\n",
              "70478 -1.090424  0.430288  1.589377  ... -0.025298  0.186105 -0.129626   \n",
              "42663  0.576587 -0.093848 -0.669632  ... -0.121390 -0.270820 -0.162529   \n",
              "85291  0.611669  0.120199 -0.157114  ... -0.153401 -0.118354 -0.241053   \n",
              "17819  0.102731 -0.040598 -0.176336  ...  0.065076  0.122068 -0.166484   \n",
              "21107  0.313869 -1.988822 -0.160957  ...  1.491512 -0.171450 -0.297923   \n",
              "\n",
              "            V24       V25       V26       V27       V28  Amount  Class  \n",
              "70478  0.407503  0.304275  0.548825  0.023265  0.028704   90.00    0.0  \n",
              "42663 -0.110617  0.714935 -0.293483  0.050388  0.084804    1.79    0.0  \n",
              "85291  1.040371 -0.404255  0.368581 -0.644020 -0.528816   19.99    0.0  \n",
              "17819 -0.003292  0.675566 -0.325854  0.001665  0.009663   27.34    0.0  \n",
              "21107 -0.450188 -0.187190 -0.298515  0.128034 -0.132311   61.14    0.0  \n",
              "\n",
              "[5 rows x 31 columns]"
            ],
            "text/html": [
              "\n",
              "  <div id=\"df-78ee3d45-db86-4580-85fc-233d0be6641b\">\n",
              "    <div class=\"colab-df-container\">\n",
              "      <div>\n",
              "<style scoped>\n",
              "    .dataframe tbody tr th:only-of-type {\n",
              "        vertical-align: middle;\n",
              "    }\n",
              "\n",
              "    .dataframe tbody tr th {\n",
              "        vertical-align: top;\n",
              "    }\n",
              "\n",
              "    .dataframe thead th {\n",
              "        text-align: right;\n",
              "    }\n",
              "</style>\n",
              "<table border=\"1\" class=\"dataframe\">\n",
              "  <thead>\n",
              "    <tr style=\"text-align: right;\">\n",
              "      <th></th>\n",
              "      <th>Time</th>\n",
              "      <th>V1</th>\n",
              "      <th>V2</th>\n",
              "      <th>V3</th>\n",
              "      <th>V4</th>\n",
              "      <th>V5</th>\n",
              "      <th>V6</th>\n",
              "      <th>V7</th>\n",
              "      <th>V8</th>\n",
              "      <th>V9</th>\n",
              "      <th>...</th>\n",
              "      <th>V21</th>\n",
              "      <th>V22</th>\n",
              "      <th>V23</th>\n",
              "      <th>V24</th>\n",
              "      <th>V25</th>\n",
              "      <th>V26</th>\n",
              "      <th>V27</th>\n",
              "      <th>V28</th>\n",
              "      <th>Amount</th>\n",
              "      <th>Class</th>\n",
              "    </tr>\n",
              "  </thead>\n",
              "  <tbody>\n",
              "    <tr>\n",
              "      <th>70478</th>\n",
              "      <td>53883</td>\n",
              "      <td>0.928996</td>\n",
              "      <td>-0.849538</td>\n",
              "      <td>1.638696</td>\n",
              "      <td>1.072137</td>\n",
              "      <td>-1.549529</td>\n",
              "      <td>0.664209</td>\n",
              "      <td>-1.090424</td>\n",
              "      <td>0.430288</td>\n",
              "      <td>1.589377</td>\n",
              "      <td>...</td>\n",
              "      <td>-0.025298</td>\n",
              "      <td>0.186105</td>\n",
              "      <td>-0.129626</td>\n",
              "      <td>0.407503</td>\n",
              "      <td>0.304275</td>\n",
              "      <td>0.548825</td>\n",
              "      <td>0.023265</td>\n",
              "      <td>0.028704</td>\n",
              "      <td>90.00</td>\n",
              "      <td>0.0</td>\n",
              "    </tr>\n",
              "    <tr>\n",
              "      <th>42663</th>\n",
              "      <td>41191</td>\n",
              "      <td>1.145527</td>\n",
              "      <td>1.179354</td>\n",
              "      <td>-1.516553</td>\n",
              "      <td>1.533669</td>\n",
              "      <td>0.948752</td>\n",
              "      <td>-1.161533</td>\n",
              "      <td>0.576587</td>\n",
              "      <td>-0.093848</td>\n",
              "      <td>-0.669632</td>\n",
              "      <td>...</td>\n",
              "      <td>-0.121390</td>\n",
              "      <td>-0.270820</td>\n",
              "      <td>-0.162529</td>\n",
              "      <td>-0.110617</td>\n",
              "      <td>0.714935</td>\n",
              "      <td>-0.293483</td>\n",
              "      <td>0.050388</td>\n",
              "      <td>0.084804</td>\n",
              "      <td>1.79</td>\n",
              "      <td>0.0</td>\n",
              "    </tr>\n",
              "    <tr>\n",
              "      <th>85291</th>\n",
              "      <td>60704</td>\n",
              "      <td>-0.155929</td>\n",
              "      <td>0.462142</td>\n",
              "      <td>0.318890</td>\n",
              "      <td>-0.814027</td>\n",
              "      <td>2.793674</td>\n",
              "      <td>3.611280</td>\n",
              "      <td>0.611669</td>\n",
              "      <td>0.120199</td>\n",
              "      <td>-0.157114</td>\n",
              "      <td>...</td>\n",
              "      <td>-0.153401</td>\n",
              "      <td>-0.118354</td>\n",
              "      <td>-0.241053</td>\n",
              "      <td>1.040371</td>\n",
              "      <td>-0.404255</td>\n",
              "      <td>0.368581</td>\n",
              "      <td>-0.644020</td>\n",
              "      <td>-0.528816</td>\n",
              "      <td>19.99</td>\n",
              "      <td>0.0</td>\n",
              "    </tr>\n",
              "    <tr>\n",
              "      <th>17819</th>\n",
              "      <td>28941</td>\n",
              "      <td>1.180119</td>\n",
              "      <td>0.194139</td>\n",
              "      <td>0.141373</td>\n",
              "      <td>0.948226</td>\n",
              "      <td>-0.120339</td>\n",
              "      <td>-0.456425</td>\n",
              "      <td>0.102731</td>\n",
              "      <td>-0.040598</td>\n",
              "      <td>-0.176336</td>\n",
              "      <td>...</td>\n",
              "      <td>0.065076</td>\n",
              "      <td>0.122068</td>\n",
              "      <td>-0.166484</td>\n",
              "      <td>-0.003292</td>\n",
              "      <td>0.675566</td>\n",
              "      <td>-0.325854</td>\n",
              "      <td>0.001665</td>\n",
              "      <td>0.009663</td>\n",
              "      <td>27.34</td>\n",
              "      <td>0.0</td>\n",
              "    </tr>\n",
              "    <tr>\n",
              "      <th>21107</th>\n",
              "      <td>31471</td>\n",
              "      <td>-1.037324</td>\n",
              "      <td>0.963357</td>\n",
              "      <td>0.803547</td>\n",
              "      <td>0.720861</td>\n",
              "      <td>0.736920</td>\n",
              "      <td>-0.084635</td>\n",
              "      <td>0.313869</td>\n",
              "      <td>-1.988822</td>\n",
              "      <td>-0.160957</td>\n",
              "      <td>...</td>\n",
              "      <td>1.491512</td>\n",
              "      <td>-0.171450</td>\n",
              "      <td>-0.297923</td>\n",
              "      <td>-0.450188</td>\n",
              "      <td>-0.187190</td>\n",
              "      <td>-0.298515</td>\n",
              "      <td>0.128034</td>\n",
              "      <td>-0.132311</td>\n",
              "      <td>61.14</td>\n",
              "      <td>0.0</td>\n",
              "    </tr>\n",
              "  </tbody>\n",
              "</table>\n",
              "<p>5 rows × 31 columns</p>\n",
              "</div>\n",
              "      <button class=\"colab-df-convert\" onclick=\"convertToInteractive('df-78ee3d45-db86-4580-85fc-233d0be6641b')\"\n",
              "              title=\"Convert this dataframe to an interactive table.\"\n",
              "              style=\"display:none;\">\n",
              "        \n",
              "  <svg xmlns=\"http://www.w3.org/2000/svg\" height=\"24px\"viewBox=\"0 0 24 24\"\n",
              "       width=\"24px\">\n",
              "    <path d=\"M0 0h24v24H0V0z\" fill=\"none\"/>\n",
              "    <path d=\"M18.56 5.44l.94 2.06.94-2.06 2.06-.94-2.06-.94-.94-2.06-.94 2.06-2.06.94zm-11 1L8.5 8.5l.94-2.06 2.06-.94-2.06-.94L8.5 2.5l-.94 2.06-2.06.94zm10 10l.94 2.06.94-2.06 2.06-.94-2.06-.94-.94-2.06-.94 2.06-2.06.94z\"/><path d=\"M17.41 7.96l-1.37-1.37c-.4-.4-.92-.59-1.43-.59-.52 0-1.04.2-1.43.59L10.3 9.45l-7.72 7.72c-.78.78-.78 2.05 0 2.83L4 21.41c.39.39.9.59 1.41.59.51 0 1.02-.2 1.41-.59l7.78-7.78 2.81-2.81c.8-.78.8-2.07 0-2.86zM5.41 20L4 18.59l7.72-7.72 1.47 1.35L5.41 20z\"/>\n",
              "  </svg>\n",
              "      </button>\n",
              "      \n",
              "  <style>\n",
              "    .colab-df-container {\n",
              "      display:flex;\n",
              "      flex-wrap:wrap;\n",
              "      gap: 12px;\n",
              "    }\n",
              "\n",
              "    .colab-df-convert {\n",
              "      background-color: #E8F0FE;\n",
              "      border: none;\n",
              "      border-radius: 50%;\n",
              "      cursor: pointer;\n",
              "      display: none;\n",
              "      fill: #1967D2;\n",
              "      height: 32px;\n",
              "      padding: 0 0 0 0;\n",
              "      width: 32px;\n",
              "    }\n",
              "\n",
              "    .colab-df-convert:hover {\n",
              "      background-color: #E2EBFA;\n",
              "      box-shadow: 0px 1px 2px rgba(60, 64, 67, 0.3), 0px 1px 3px 1px rgba(60, 64, 67, 0.15);\n",
              "      fill: #174EA6;\n",
              "    }\n",
              "\n",
              "    [theme=dark] .colab-df-convert {\n",
              "      background-color: #3B4455;\n",
              "      fill: #D2E3FC;\n",
              "    }\n",
              "\n",
              "    [theme=dark] .colab-df-convert:hover {\n",
              "      background-color: #434B5C;\n",
              "      box-shadow: 0px 1px 3px 1px rgba(0, 0, 0, 0.15);\n",
              "      filter: drop-shadow(0px 1px 2px rgba(0, 0, 0, 0.3));\n",
              "      fill: #FFFFFF;\n",
              "    }\n",
              "  </style>\n",
              "\n",
              "      <script>\n",
              "        const buttonEl =\n",
              "          document.querySelector('#df-78ee3d45-db86-4580-85fc-233d0be6641b button.colab-df-convert');\n",
              "        buttonEl.style.display =\n",
              "          google.colab.kernel.accessAllowed ? 'block' : 'none';\n",
              "\n",
              "        async function convertToInteractive(key) {\n",
              "          const element = document.querySelector('#df-78ee3d45-db86-4580-85fc-233d0be6641b');\n",
              "          const dataTable =\n",
              "            await google.colab.kernel.invokeFunction('convertToInteractive',\n",
              "                                                     [key], {});\n",
              "          if (!dataTable) return;\n",
              "\n",
              "          const docLinkHtml = 'Like what you see? Visit the ' +\n",
              "            '<a target=\"_blank\" href=https://colab.research.google.com/notebooks/data_table.ipynb>data table notebook</a>'\n",
              "            + ' to learn more about interactive tables.';\n",
              "          element.innerHTML = '';\n",
              "          dataTable['output_type'] = 'display_data';\n",
              "          await google.colab.output.renderOutput(dataTable, element);\n",
              "          const docLink = document.createElement('div');\n",
              "          docLink.innerHTML = docLinkHtml;\n",
              "          element.appendChild(docLink);\n",
              "        }\n",
              "      </script>\n",
              "    </div>\n",
              "  </div>\n",
              "  "
            ]
          },
          "metadata": {},
          "execution_count": 32
        }
      ]
    },
    {
      "cell_type": "code",
      "source": [
        "new_dataset.tail()"
      ],
      "metadata": {
        "colab": {
          "base_uri": "https://localhost:8080/",
          "height": 299
        },
        "id": "Bcc4C0np1dF2",
        "outputId": "4eda0937-2f7a-4bfe-a5ff-366bff7cb3cb"
      },
      "execution_count": null,
      "outputs": [
        {
          "output_type": "execute_result",
          "data": {
            "text/plain": [
              "         Time        V1        V2        V3        V4        V5        V6  \\\n",
              "118308  75033 -0.430330  0.985633  0.645789  0.317131  0.616332 -1.347462   \n",
              "119714  75556 -0.734303  0.435519 -0.530866 -0.471120  0.643214  0.713832   \n",
              "119781  75581 -2.866364  2.346949 -4.053307  3.983359 -3.463186 -1.280953   \n",
              "120505  75851 -4.793667  3.418911 -5.074445  4.035987 -3.527875 -1.923242   \n",
              "120837  75978 -5.140723  3.568751 -5.896245  4.164720 -4.091193 -1.989960   \n",
              "\n",
              "              V7        V8        V9  ...       V21       V22       V23  \\\n",
              "118308  1.078234 -0.161518 -0.492856  ... -0.016378 -0.207609 -0.164119   \n",
              "119714 -1.234572 -2.551412 -2.057724  ... -1.004877  1.150354 -0.152555   \n",
              "119781 -4.474764  1.216655 -2.309829  ...  1.049732  0.475840  0.404480   \n",
              "120505 -5.065981  1.996885 -3.097379  ...  1.168618  0.289531 -0.371888   \n",
              "120837 -5.472436  2.422821 -2.909735  ...  1.131130  0.118022 -0.332704   \n",
              "\n",
              "             V24       V25       V26       V27       V28  Amount  Class  \n",
              "118308  0.255280  0.454798 -0.505032 -0.039456 -0.006358   30.14    1.0  \n",
              "119714 -1.386745  0.004716  0.219146 -0.058257  0.158048   29.95    1.0  \n",
              "119781  0.282030 -0.506901 -0.371741  0.615257  0.803163  124.53    1.0  \n",
              "120505  0.144761  0.084735 -0.197431  0.328672  0.835395   99.85    1.0  \n",
              "120837  0.139941  0.324758 -0.180769  0.177810  0.661555   99.90    1.0  \n",
              "\n",
              "[5 rows x 31 columns]"
            ],
            "text/html": [
              "\n",
              "  <div id=\"df-904493c4-730f-40d8-a2d0-279159c65a1b\">\n",
              "    <div class=\"colab-df-container\">\n",
              "      <div>\n",
              "<style scoped>\n",
              "    .dataframe tbody tr th:only-of-type {\n",
              "        vertical-align: middle;\n",
              "    }\n",
              "\n",
              "    .dataframe tbody tr th {\n",
              "        vertical-align: top;\n",
              "    }\n",
              "\n",
              "    .dataframe thead th {\n",
              "        text-align: right;\n",
              "    }\n",
              "</style>\n",
              "<table border=\"1\" class=\"dataframe\">\n",
              "  <thead>\n",
              "    <tr style=\"text-align: right;\">\n",
              "      <th></th>\n",
              "      <th>Time</th>\n",
              "      <th>V1</th>\n",
              "      <th>V2</th>\n",
              "      <th>V3</th>\n",
              "      <th>V4</th>\n",
              "      <th>V5</th>\n",
              "      <th>V6</th>\n",
              "      <th>V7</th>\n",
              "      <th>V8</th>\n",
              "      <th>V9</th>\n",
              "      <th>...</th>\n",
              "      <th>V21</th>\n",
              "      <th>V22</th>\n",
              "      <th>V23</th>\n",
              "      <th>V24</th>\n",
              "      <th>V25</th>\n",
              "      <th>V26</th>\n",
              "      <th>V27</th>\n",
              "      <th>V28</th>\n",
              "      <th>Amount</th>\n",
              "      <th>Class</th>\n",
              "    </tr>\n",
              "  </thead>\n",
              "  <tbody>\n",
              "    <tr>\n",
              "      <th>118308</th>\n",
              "      <td>75033</td>\n",
              "      <td>-0.430330</td>\n",
              "      <td>0.985633</td>\n",
              "      <td>0.645789</td>\n",
              "      <td>0.317131</td>\n",
              "      <td>0.616332</td>\n",
              "      <td>-1.347462</td>\n",
              "      <td>1.078234</td>\n",
              "      <td>-0.161518</td>\n",
              "      <td>-0.492856</td>\n",
              "      <td>...</td>\n",
              "      <td>-0.016378</td>\n",
              "      <td>-0.207609</td>\n",
              "      <td>-0.164119</td>\n",
              "      <td>0.255280</td>\n",
              "      <td>0.454798</td>\n",
              "      <td>-0.505032</td>\n",
              "      <td>-0.039456</td>\n",
              "      <td>-0.006358</td>\n",
              "      <td>30.14</td>\n",
              "      <td>1.0</td>\n",
              "    </tr>\n",
              "    <tr>\n",
              "      <th>119714</th>\n",
              "      <td>75556</td>\n",
              "      <td>-0.734303</td>\n",
              "      <td>0.435519</td>\n",
              "      <td>-0.530866</td>\n",
              "      <td>-0.471120</td>\n",
              "      <td>0.643214</td>\n",
              "      <td>0.713832</td>\n",
              "      <td>-1.234572</td>\n",
              "      <td>-2.551412</td>\n",
              "      <td>-2.057724</td>\n",
              "      <td>...</td>\n",
              "      <td>-1.004877</td>\n",
              "      <td>1.150354</td>\n",
              "      <td>-0.152555</td>\n",
              "      <td>-1.386745</td>\n",
              "      <td>0.004716</td>\n",
              "      <td>0.219146</td>\n",
              "      <td>-0.058257</td>\n",
              "      <td>0.158048</td>\n",
              "      <td>29.95</td>\n",
              "      <td>1.0</td>\n",
              "    </tr>\n",
              "    <tr>\n",
              "      <th>119781</th>\n",
              "      <td>75581</td>\n",
              "      <td>-2.866364</td>\n",
              "      <td>2.346949</td>\n",
              "      <td>-4.053307</td>\n",
              "      <td>3.983359</td>\n",
              "      <td>-3.463186</td>\n",
              "      <td>-1.280953</td>\n",
              "      <td>-4.474764</td>\n",
              "      <td>1.216655</td>\n",
              "      <td>-2.309829</td>\n",
              "      <td>...</td>\n",
              "      <td>1.049732</td>\n",
              "      <td>0.475840</td>\n",
              "      <td>0.404480</td>\n",
              "      <td>0.282030</td>\n",
              "      <td>-0.506901</td>\n",
              "      <td>-0.371741</td>\n",
              "      <td>0.615257</td>\n",
              "      <td>0.803163</td>\n",
              "      <td>124.53</td>\n",
              "      <td>1.0</td>\n",
              "    </tr>\n",
              "    <tr>\n",
              "      <th>120505</th>\n",
              "      <td>75851</td>\n",
              "      <td>-4.793667</td>\n",
              "      <td>3.418911</td>\n",
              "      <td>-5.074445</td>\n",
              "      <td>4.035987</td>\n",
              "      <td>-3.527875</td>\n",
              "      <td>-1.923242</td>\n",
              "      <td>-5.065981</td>\n",
              "      <td>1.996885</td>\n",
              "      <td>-3.097379</td>\n",
              "      <td>...</td>\n",
              "      <td>1.168618</td>\n",
              "      <td>0.289531</td>\n",
              "      <td>-0.371888</td>\n",
              "      <td>0.144761</td>\n",
              "      <td>0.084735</td>\n",
              "      <td>-0.197431</td>\n",
              "      <td>0.328672</td>\n",
              "      <td>0.835395</td>\n",
              "      <td>99.85</td>\n",
              "      <td>1.0</td>\n",
              "    </tr>\n",
              "    <tr>\n",
              "      <th>120837</th>\n",
              "      <td>75978</td>\n",
              "      <td>-5.140723</td>\n",
              "      <td>3.568751</td>\n",
              "      <td>-5.896245</td>\n",
              "      <td>4.164720</td>\n",
              "      <td>-4.091193</td>\n",
              "      <td>-1.989960</td>\n",
              "      <td>-5.472436</td>\n",
              "      <td>2.422821</td>\n",
              "      <td>-2.909735</td>\n",
              "      <td>...</td>\n",
              "      <td>1.131130</td>\n",
              "      <td>0.118022</td>\n",
              "      <td>-0.332704</td>\n",
              "      <td>0.139941</td>\n",
              "      <td>0.324758</td>\n",
              "      <td>-0.180769</td>\n",
              "      <td>0.177810</td>\n",
              "      <td>0.661555</td>\n",
              "      <td>99.90</td>\n",
              "      <td>1.0</td>\n",
              "    </tr>\n",
              "  </tbody>\n",
              "</table>\n",
              "<p>5 rows × 31 columns</p>\n",
              "</div>\n",
              "      <button class=\"colab-df-convert\" onclick=\"convertToInteractive('df-904493c4-730f-40d8-a2d0-279159c65a1b')\"\n",
              "              title=\"Convert this dataframe to an interactive table.\"\n",
              "              style=\"display:none;\">\n",
              "        \n",
              "  <svg xmlns=\"http://www.w3.org/2000/svg\" height=\"24px\"viewBox=\"0 0 24 24\"\n",
              "       width=\"24px\">\n",
              "    <path d=\"M0 0h24v24H0V0z\" fill=\"none\"/>\n",
              "    <path d=\"M18.56 5.44l.94 2.06.94-2.06 2.06-.94-2.06-.94-.94-2.06-.94 2.06-2.06.94zm-11 1L8.5 8.5l.94-2.06 2.06-.94-2.06-.94L8.5 2.5l-.94 2.06-2.06.94zm10 10l.94 2.06.94-2.06 2.06-.94-2.06-.94-.94-2.06-.94 2.06-2.06.94z\"/><path d=\"M17.41 7.96l-1.37-1.37c-.4-.4-.92-.59-1.43-.59-.52 0-1.04.2-1.43.59L10.3 9.45l-7.72 7.72c-.78.78-.78 2.05 0 2.83L4 21.41c.39.39.9.59 1.41.59.51 0 1.02-.2 1.41-.59l7.78-7.78 2.81-2.81c.8-.78.8-2.07 0-2.86zM5.41 20L4 18.59l7.72-7.72 1.47 1.35L5.41 20z\"/>\n",
              "  </svg>\n",
              "      </button>\n",
              "      \n",
              "  <style>\n",
              "    .colab-df-container {\n",
              "      display:flex;\n",
              "      flex-wrap:wrap;\n",
              "      gap: 12px;\n",
              "    }\n",
              "\n",
              "    .colab-df-convert {\n",
              "      background-color: #E8F0FE;\n",
              "      border: none;\n",
              "      border-radius: 50%;\n",
              "      cursor: pointer;\n",
              "      display: none;\n",
              "      fill: #1967D2;\n",
              "      height: 32px;\n",
              "      padding: 0 0 0 0;\n",
              "      width: 32px;\n",
              "    }\n",
              "\n",
              "    .colab-df-convert:hover {\n",
              "      background-color: #E2EBFA;\n",
              "      box-shadow: 0px 1px 2px rgba(60, 64, 67, 0.3), 0px 1px 3px 1px rgba(60, 64, 67, 0.15);\n",
              "      fill: #174EA6;\n",
              "    }\n",
              "\n",
              "    [theme=dark] .colab-df-convert {\n",
              "      background-color: #3B4455;\n",
              "      fill: #D2E3FC;\n",
              "    }\n",
              "\n",
              "    [theme=dark] .colab-df-convert:hover {\n",
              "      background-color: #434B5C;\n",
              "      box-shadow: 0px 1px 3px 1px rgba(0, 0, 0, 0.15);\n",
              "      filter: drop-shadow(0px 1px 2px rgba(0, 0, 0, 0.3));\n",
              "      fill: #FFFFFF;\n",
              "    }\n",
              "  </style>\n",
              "\n",
              "      <script>\n",
              "        const buttonEl =\n",
              "          document.querySelector('#df-904493c4-730f-40d8-a2d0-279159c65a1b button.colab-df-convert');\n",
              "        buttonEl.style.display =\n",
              "          google.colab.kernel.accessAllowed ? 'block' : 'none';\n",
              "\n",
              "        async function convertToInteractive(key) {\n",
              "          const element = document.querySelector('#df-904493c4-730f-40d8-a2d0-279159c65a1b');\n",
              "          const dataTable =\n",
              "            await google.colab.kernel.invokeFunction('convertToInteractive',\n",
              "                                                     [key], {});\n",
              "          if (!dataTable) return;\n",
              "\n",
              "          const docLinkHtml = 'Like what you see? Visit the ' +\n",
              "            '<a target=\"_blank\" href=https://colab.research.google.com/notebooks/data_table.ipynb>data table notebook</a>'\n",
              "            + ' to learn more about interactive tables.';\n",
              "          element.innerHTML = '';\n",
              "          dataTable['output_type'] = 'display_data';\n",
              "          await google.colab.output.renderOutput(dataTable, element);\n",
              "          const docLink = document.createElement('div');\n",
              "          docLink.innerHTML = docLinkHtml;\n",
              "          element.appendChild(docLink);\n",
              "        }\n",
              "      </script>\n",
              "    </div>\n",
              "  </div>\n",
              "  "
            ]
          },
          "metadata": {},
          "execution_count": 33
        }
      ]
    },
    {
      "cell_type": "code",
      "source": [
        "new_dataset['Class'].value_counts()"
      ],
      "metadata": {
        "colab": {
          "base_uri": "https://localhost:8080/"
        },
        "id": "p3L05Yur1mtE",
        "outputId": "01c40536-7aa1-45c4-c7d8-69fcec08e2d4"
      },
      "execution_count": null,
      "outputs": [
        {
          "output_type": "execute_result",
          "data": {
            "text/plain": [
              "0.0    249\n",
              "1.0    249\n",
              "Name: Class, dtype: int64"
            ]
          },
          "metadata": {},
          "execution_count": 34
        }
      ]
    },
    {
      "cell_type": "code",
      "source": [
        "new_dataset.groupby('Class').mean()"
      ],
      "metadata": {
        "colab": {
          "base_uri": "https://localhost:8080/",
          "height": 236
        },
        "id": "4XACsZyE1yMa",
        "outputId": "984c4aff-4290-4d66-9bcd-8a69d8bd651e"
      },
      "execution_count": null,
      "outputs": [
        {
          "output_type": "execute_result",
          "data": {
            "text/plain": [
              "               Time        V1        V2        V3        V4        V5  \\\n",
              "Class                                                                   \n",
              "0.0    47452.361446 -0.134657  0.031891  0.790965  0.106613 -0.227854   \n",
              "1.0    40280.433735 -5.846600  4.076891 -7.453278  4.641314 -4.167167   \n",
              "\n",
              "             V6        V7        V8        V9  ...       V20       V21  \\\n",
              "Class                                          ...                       \n",
              "0.0    0.097494 -0.146850  0.032564 -0.020933  ...  0.037748 -0.014627   \n",
              "1.0   -1.511639 -6.201243  1.559279 -2.696182  ...  0.259111  1.324185   \n",
              "\n",
              "            V22       V23       V24       V25       V26       V27       V28  \\\n",
              "Class                                                                         \n",
              "0.0   -0.144931 -0.064640  0.086311  0.126753 -0.020607 -0.013756 -0.013523   \n",
              "1.0   -0.314840 -0.103567 -0.108411  0.199329  0.074713  0.522683  0.076517   \n",
              "\n",
              "           Amount  \n",
              "Class              \n",
              "0.0     76.255984  \n",
              "1.0    119.180482  \n",
              "\n",
              "[2 rows x 30 columns]"
            ],
            "text/html": [
              "\n",
              "  <div id=\"df-ef92a548-254e-407b-9b33-97c40d053517\">\n",
              "    <div class=\"colab-df-container\">\n",
              "      <div>\n",
              "<style scoped>\n",
              "    .dataframe tbody tr th:only-of-type {\n",
              "        vertical-align: middle;\n",
              "    }\n",
              "\n",
              "    .dataframe tbody tr th {\n",
              "        vertical-align: top;\n",
              "    }\n",
              "\n",
              "    .dataframe thead th {\n",
              "        text-align: right;\n",
              "    }\n",
              "</style>\n",
              "<table border=\"1\" class=\"dataframe\">\n",
              "  <thead>\n",
              "    <tr style=\"text-align: right;\">\n",
              "      <th></th>\n",
              "      <th>Time</th>\n",
              "      <th>V1</th>\n",
              "      <th>V2</th>\n",
              "      <th>V3</th>\n",
              "      <th>V4</th>\n",
              "      <th>V5</th>\n",
              "      <th>V6</th>\n",
              "      <th>V7</th>\n",
              "      <th>V8</th>\n",
              "      <th>V9</th>\n",
              "      <th>...</th>\n",
              "      <th>V20</th>\n",
              "      <th>V21</th>\n",
              "      <th>V22</th>\n",
              "      <th>V23</th>\n",
              "      <th>V24</th>\n",
              "      <th>V25</th>\n",
              "      <th>V26</th>\n",
              "      <th>V27</th>\n",
              "      <th>V28</th>\n",
              "      <th>Amount</th>\n",
              "    </tr>\n",
              "    <tr>\n",
              "      <th>Class</th>\n",
              "      <th></th>\n",
              "      <th></th>\n",
              "      <th></th>\n",
              "      <th></th>\n",
              "      <th></th>\n",
              "      <th></th>\n",
              "      <th></th>\n",
              "      <th></th>\n",
              "      <th></th>\n",
              "      <th></th>\n",
              "      <th></th>\n",
              "      <th></th>\n",
              "      <th></th>\n",
              "      <th></th>\n",
              "      <th></th>\n",
              "      <th></th>\n",
              "      <th></th>\n",
              "      <th></th>\n",
              "      <th></th>\n",
              "      <th></th>\n",
              "      <th></th>\n",
              "    </tr>\n",
              "  </thead>\n",
              "  <tbody>\n",
              "    <tr>\n",
              "      <th>0.0</th>\n",
              "      <td>47452.361446</td>\n",
              "      <td>-0.134657</td>\n",
              "      <td>0.031891</td>\n",
              "      <td>0.790965</td>\n",
              "      <td>0.106613</td>\n",
              "      <td>-0.227854</td>\n",
              "      <td>0.097494</td>\n",
              "      <td>-0.146850</td>\n",
              "      <td>0.032564</td>\n",
              "      <td>-0.020933</td>\n",
              "      <td>...</td>\n",
              "      <td>0.037748</td>\n",
              "      <td>-0.014627</td>\n",
              "      <td>-0.144931</td>\n",
              "      <td>-0.064640</td>\n",
              "      <td>0.086311</td>\n",
              "      <td>0.126753</td>\n",
              "      <td>-0.020607</td>\n",
              "      <td>-0.013756</td>\n",
              "      <td>-0.013523</td>\n",
              "      <td>76.255984</td>\n",
              "    </tr>\n",
              "    <tr>\n",
              "      <th>1.0</th>\n",
              "      <td>40280.433735</td>\n",
              "      <td>-5.846600</td>\n",
              "      <td>4.076891</td>\n",
              "      <td>-7.453278</td>\n",
              "      <td>4.641314</td>\n",
              "      <td>-4.167167</td>\n",
              "      <td>-1.511639</td>\n",
              "      <td>-6.201243</td>\n",
              "      <td>1.559279</td>\n",
              "      <td>-2.696182</td>\n",
              "      <td>...</td>\n",
              "      <td>0.259111</td>\n",
              "      <td>1.324185</td>\n",
              "      <td>-0.314840</td>\n",
              "      <td>-0.103567</td>\n",
              "      <td>-0.108411</td>\n",
              "      <td>0.199329</td>\n",
              "      <td>0.074713</td>\n",
              "      <td>0.522683</td>\n",
              "      <td>0.076517</td>\n",
              "      <td>119.180482</td>\n",
              "    </tr>\n",
              "  </tbody>\n",
              "</table>\n",
              "<p>2 rows × 30 columns</p>\n",
              "</div>\n",
              "      <button class=\"colab-df-convert\" onclick=\"convertToInteractive('df-ef92a548-254e-407b-9b33-97c40d053517')\"\n",
              "              title=\"Convert this dataframe to an interactive table.\"\n",
              "              style=\"display:none;\">\n",
              "        \n",
              "  <svg xmlns=\"http://www.w3.org/2000/svg\" height=\"24px\"viewBox=\"0 0 24 24\"\n",
              "       width=\"24px\">\n",
              "    <path d=\"M0 0h24v24H0V0z\" fill=\"none\"/>\n",
              "    <path d=\"M18.56 5.44l.94 2.06.94-2.06 2.06-.94-2.06-.94-.94-2.06-.94 2.06-2.06.94zm-11 1L8.5 8.5l.94-2.06 2.06-.94-2.06-.94L8.5 2.5l-.94 2.06-2.06.94zm10 10l.94 2.06.94-2.06 2.06-.94-2.06-.94-.94-2.06-.94 2.06-2.06.94z\"/><path d=\"M17.41 7.96l-1.37-1.37c-.4-.4-.92-.59-1.43-.59-.52 0-1.04.2-1.43.59L10.3 9.45l-7.72 7.72c-.78.78-.78 2.05 0 2.83L4 21.41c.39.39.9.59 1.41.59.51 0 1.02-.2 1.41-.59l7.78-7.78 2.81-2.81c.8-.78.8-2.07 0-2.86zM5.41 20L4 18.59l7.72-7.72 1.47 1.35L5.41 20z\"/>\n",
              "  </svg>\n",
              "      </button>\n",
              "      \n",
              "  <style>\n",
              "    .colab-df-container {\n",
              "      display:flex;\n",
              "      flex-wrap:wrap;\n",
              "      gap: 12px;\n",
              "    }\n",
              "\n",
              "    .colab-df-convert {\n",
              "      background-color: #E8F0FE;\n",
              "      border: none;\n",
              "      border-radius: 50%;\n",
              "      cursor: pointer;\n",
              "      display: none;\n",
              "      fill: #1967D2;\n",
              "      height: 32px;\n",
              "      padding: 0 0 0 0;\n",
              "      width: 32px;\n",
              "    }\n",
              "\n",
              "    .colab-df-convert:hover {\n",
              "      background-color: #E2EBFA;\n",
              "      box-shadow: 0px 1px 2px rgba(60, 64, 67, 0.3), 0px 1px 3px 1px rgba(60, 64, 67, 0.15);\n",
              "      fill: #174EA6;\n",
              "    }\n",
              "\n",
              "    [theme=dark] .colab-df-convert {\n",
              "      background-color: #3B4455;\n",
              "      fill: #D2E3FC;\n",
              "    }\n",
              "\n",
              "    [theme=dark] .colab-df-convert:hover {\n",
              "      background-color: #434B5C;\n",
              "      box-shadow: 0px 1px 3px 1px rgba(0, 0, 0, 0.15);\n",
              "      filter: drop-shadow(0px 1px 2px rgba(0, 0, 0, 0.3));\n",
              "      fill: #FFFFFF;\n",
              "    }\n",
              "  </style>\n",
              "\n",
              "      <script>\n",
              "        const buttonEl =\n",
              "          document.querySelector('#df-ef92a548-254e-407b-9b33-97c40d053517 button.colab-df-convert');\n",
              "        buttonEl.style.display =\n",
              "          google.colab.kernel.accessAllowed ? 'block' : 'none';\n",
              "\n",
              "        async function convertToInteractive(key) {\n",
              "          const element = document.querySelector('#df-ef92a548-254e-407b-9b33-97c40d053517');\n",
              "          const dataTable =\n",
              "            await google.colab.kernel.invokeFunction('convertToInteractive',\n",
              "                                                     [key], {});\n",
              "          if (!dataTable) return;\n",
              "\n",
              "          const docLinkHtml = 'Like what you see? Visit the ' +\n",
              "            '<a target=\"_blank\" href=https://colab.research.google.com/notebooks/data_table.ipynb>data table notebook</a>'\n",
              "            + ' to learn more about interactive tables.';\n",
              "          element.innerHTML = '';\n",
              "          dataTable['output_type'] = 'display_data';\n",
              "          await google.colab.output.renderOutput(dataTable, element);\n",
              "          const docLink = document.createElement('div');\n",
              "          docLink.innerHTML = docLinkHtml;\n",
              "          element.appendChild(docLink);\n",
              "        }\n",
              "      </script>\n",
              "    </div>\n",
              "  </div>\n",
              "  "
            ]
          },
          "metadata": {},
          "execution_count": 35
        }
      ]
    },
    {
      "cell_type": "markdown",
      "source": [
        "spltting the data into features and targets\n"
      ],
      "metadata": {
        "id": "uadawYWM2NgD"
      }
    },
    {
      "cell_type": "code",
      "source": [
        "X = new_dataset.drop(columns = 'Class', axis=1)\n",
        "Y = new_dataset['Class']"
      ],
      "metadata": {
        "id": "fRLFM6kj2AJM"
      },
      "execution_count": null,
      "outputs": []
    },
    {
      "cell_type": "code",
      "source": [
        "print('X')"
      ],
      "metadata": {
        "colab": {
          "base_uri": "https://localhost:8080/"
        },
        "id": "oM_xjNoz2ftQ",
        "outputId": "33b9f944-16a1-4f86-e2f7-5900da4c342c"
      },
      "execution_count": null,
      "outputs": [
        {
          "output_type": "stream",
          "name": "stdout",
          "text": [
            "X\n"
          ]
        }
      ]
    },
    {
      "cell_type": "code",
      "source": [
        "print(X)"
      ],
      "metadata": {
        "colab": {
          "base_uri": "https://localhost:8080/"
        },
        "id": "gJwdowl22il6",
        "outputId": "605e10e4-4291-4539-ca94-637e77ad30b6"
      },
      "execution_count": null,
      "outputs": [
        {
          "output_type": "stream",
          "name": "stdout",
          "text": [
            "         Time        V1        V2        V3        V4        V5        V6  \\\n",
            "70478   53883  0.928996 -0.849538  1.638696  1.072137 -1.549529  0.664209   \n",
            "42663   41191  1.145527  1.179354 -1.516553  1.533669  0.948752 -1.161533   \n",
            "85291   60704 -0.155929  0.462142  0.318890 -0.814027  2.793674  3.611280   \n",
            "17819   28941  1.180119  0.194139  0.141373  0.948226 -0.120339 -0.456425   \n",
            "21107   31471 -1.037324  0.963357  0.803547  0.720861  0.736920 -0.084635   \n",
            "...       ...       ...       ...       ...       ...       ...       ...   \n",
            "118308  75033 -0.430330  0.985633  0.645789  0.317131  0.616332 -1.347462   \n",
            "119714  75556 -0.734303  0.435519 -0.530866 -0.471120  0.643214  0.713832   \n",
            "119781  75581 -2.866364  2.346949 -4.053307  3.983359 -3.463186 -1.280953   \n",
            "120505  75851 -4.793667  3.418911 -5.074445  4.035987 -3.527875 -1.923242   \n",
            "120837  75978 -5.140723  3.568751 -5.896245  4.164720 -4.091193 -1.989960   \n",
            "\n",
            "              V7        V8        V9  ...       V20       V21       V22  \\\n",
            "70478  -1.090424  0.430288  1.589377  ...  0.022395 -0.025298  0.186105   \n",
            "42663   0.576587 -0.093848 -0.669632  ... -0.085369 -0.121390 -0.270820   \n",
            "85291   0.611669  0.120199 -0.157114  ...  0.371343 -0.153401 -0.118354   \n",
            "17819   0.102731 -0.040598 -0.176336  ... -0.109393  0.065076  0.122068   \n",
            "21107   0.313869 -1.988822 -0.160957  ... -0.553933  1.491512 -0.171450   \n",
            "...          ...       ...       ...  ...       ...       ...       ...   \n",
            "118308  1.078234 -0.161518 -0.492856  ... -0.115282 -0.016378 -0.207609   \n",
            "119714 -1.234572 -2.551412 -2.057724  ...  0.864536 -1.004877  1.150354   \n",
            "119781 -4.474764  1.216655 -2.309829  ...  0.270013  1.049732  0.475840   \n",
            "120505 -5.065981  1.996885 -3.097379  ...  0.342122  1.168618  0.289531   \n",
            "120837 -5.472436  2.422821 -2.909735  ...  0.318995  1.131130  0.118022   \n",
            "\n",
            "             V23       V24       V25       V26       V27       V28  Amount  \n",
            "70478  -0.129626  0.407503  0.304275  0.548825  0.023265  0.028704   90.00  \n",
            "42663  -0.162529 -0.110617  0.714935 -0.293483  0.050388  0.084804    1.79  \n",
            "85291  -0.241053  1.040371 -0.404255  0.368581 -0.644020 -0.528816   19.99  \n",
            "17819  -0.166484 -0.003292  0.675566 -0.325854  0.001665  0.009663   27.34  \n",
            "21107  -0.297923 -0.450188 -0.187190 -0.298515  0.128034 -0.132311   61.14  \n",
            "...          ...       ...       ...       ...       ...       ...     ...  \n",
            "118308 -0.164119  0.255280  0.454798 -0.505032 -0.039456 -0.006358   30.14  \n",
            "119714 -0.152555 -1.386745  0.004716  0.219146 -0.058257  0.158048   29.95  \n",
            "119781  0.404480  0.282030 -0.506901 -0.371741  0.615257  0.803163  124.53  \n",
            "120505 -0.371888  0.144761  0.084735 -0.197431  0.328672  0.835395   99.85  \n",
            "120837 -0.332704  0.139941  0.324758 -0.180769  0.177810  0.661555   99.90  \n",
            "\n",
            "[498 rows x 30 columns]\n"
          ]
        }
      ]
    },
    {
      "cell_type": "code",
      "source": [
        "print(Y)"
      ],
      "metadata": {
        "colab": {
          "base_uri": "https://localhost:8080/"
        },
        "id": "bn8dN0vC2kas",
        "outputId": "b225e21b-84c4-45c6-c9e4-388b5949d570"
      },
      "execution_count": null,
      "outputs": [
        {
          "output_type": "stream",
          "name": "stdout",
          "text": [
            "70478     0.0\n",
            "42663     0.0\n",
            "85291     0.0\n",
            "17819     0.0\n",
            "21107     0.0\n",
            "         ... \n",
            "118308    1.0\n",
            "119714    1.0\n",
            "119781    1.0\n",
            "120505    1.0\n",
            "120837    1.0\n",
            "Name: Class, Length: 498, dtype: float64\n"
          ]
        }
      ]
    },
    {
      "cell_type": "markdown",
      "source": [
        "Split the data into Training data and Testing Data"
      ],
      "metadata": {
        "id": "LR8PCTeeC5-K"
      }
    },
    {
      "cell_type": "code",
      "source": [
        "X_train, X_test, Y_train, Y_test = train_test_split(X, Y, test_size=0.2, stratify = Y, random_state = 2)"
      ],
      "metadata": {
        "id": "s3zrS9BV2pBe"
      },
      "execution_count": null,
      "outputs": []
    },
    {
      "cell_type": "code",
      "source": [
        "print(X.shape, X_train.shape, X_test.shape)"
      ],
      "metadata": {
        "colab": {
          "base_uri": "https://localhost:8080/"
        },
        "id": "dpuCavP5F0QI",
        "outputId": "02200658-4d54-416f-f897-4bfc4a12a0b1"
      },
      "execution_count": null,
      "outputs": [
        {
          "output_type": "stream",
          "name": "stdout",
          "text": [
            "(498, 30) (398, 30) (100, 30)\n"
          ]
        }
      ]
    },
    {
      "cell_type": "markdown",
      "source": [
        "Model Training"
      ],
      "metadata": {
        "id": "SMuO1G3XGEHi"
      }
    },
    {
      "cell_type": "markdown",
      "source": [
        "Logistic Regression Model"
      ],
      "metadata": {
        "id": "WWP3zWqfGHge"
      }
    },
    {
      "cell_type": "code",
      "source": [
        "model = LogisticRegression()"
      ],
      "metadata": {
        "id": "GYBiME0dF_3f"
      },
      "execution_count": null,
      "outputs": []
    },
    {
      "cell_type": "code",
      "source": [
        "# training the logistic Regression Model with Training Data\n",
        "model.fit(X_train, Y_train)"
      ],
      "metadata": {
        "colab": {
          "base_uri": "https://localhost:8080/"
        },
        "id": "pkuoRAPHGNac",
        "outputId": "75906382-aed2-4681-8b34-8d76f99d0166"
      },
      "execution_count": null,
      "outputs": [
        {
          "output_type": "execute_result",
          "data": {
            "text/plain": [
              "LogisticRegression()"
            ]
          },
          "metadata": {},
          "execution_count": 44
        }
      ]
    },
    {
      "cell_type": "markdown",
      "source": [
        "Model Evaluation"
      ],
      "metadata": {
        "id": "fFSqUggpGvmP"
      }
    },
    {
      "cell_type": "markdown",
      "source": [
        "Accuracy Score"
      ],
      "metadata": {
        "id": "HZ3UXPmeG0Kr"
      }
    },
    {
      "cell_type": "code",
      "source": [
        "# accuracy on training data\n",
        "X_train_prediction = model.predict(X_train)\n",
        "training_data_accuracy = accuracy_score(X_train_prediction, Y_train)"
      ],
      "metadata": {
        "id": "uayXWkzDGloS"
      },
      "execution_count": null,
      "outputs": []
    },
    {
      "cell_type": "code",
      "source": [
        "print(\"Accuracy on training data: \", training_data_accuracy)"
      ],
      "metadata": {
        "colab": {
          "base_uri": "https://localhost:8080/"
        },
        "id": "B1JKEs4SHOcF",
        "outputId": "9da5d869-6414-4cb6-9f22-810249f61da4"
      },
      "execution_count": null,
      "outputs": [
        {
          "output_type": "stream",
          "name": "stdout",
          "text": [
            "Accuracy on training data:  0.9371859296482412\n"
          ]
        }
      ]
    },
    {
      "cell_type": "code",
      "source": [
        "# accuracy on test data\n",
        "X_test_prediction = model.predict(X_test)\n",
        "test_data_accuracy = accuracy_score(X_test_prediction, Y_test)"
      ],
      "metadata": {
        "id": "8WMk2lhFHXz5"
      },
      "execution_count": null,
      "outputs": []
    },
    {
      "cell_type": "code",
      "source": [
        "print(\"Accuracy score on test data: \", test_data_accuracy)"
      ],
      "metadata": {
        "colab": {
          "base_uri": "https://localhost:8080/"
        },
        "id": "fEdzXbpOIC5s",
        "outputId": "aef00414-224b-4096-b342-b32156c9fcd8"
      },
      "execution_count": null,
      "outputs": [
        {
          "output_type": "stream",
          "name": "stdout",
          "text": [
            "Accuracy score on test data:  0.91\n"
          ]
        }
      ]
    }
  ]
}